{
 "cells": [
  {
   "cell_type": "code",
   "execution_count": 1,
   "metadata": {},
   "outputs": [],
   "source": [
    "# Import libraries\n",
    "import pandas as pd\n",
    "import numpy as np"
   ]
  },
  {
   "cell_type": "code",
   "execution_count": 2,
   "metadata": {},
   "outputs": [],
   "source": [
    "# Load the dataset after EDA\n",
    "data = pd.read_csv(\"../data/processed/data_eda.csv\")"
   ]
  },
  {
   "cell_type": "code",
   "execution_count": 3,
   "metadata": {},
   "outputs": [
    {
     "data": {
      "text/plain": [
       "store_primary_category\n",
       "american             19399\n",
       "pizza                17320\n",
       "mexican              17098\n",
       "burger               10958\n",
       "sandwich             10059\n",
       "                     ...  \n",
       "lebanese                 9\n",
       "belgian                  2\n",
       "indonesian               2\n",
       "chocolate                1\n",
       "alcohol-plus-food        1\n",
       "Name: count, Length: 75, dtype: int64"
      ]
     },
     "execution_count": 3,
     "metadata": {},
     "output_type": "execute_result"
    }
   ],
   "source": [
    "# Handle missing values for 'store_primary_category'\n",
    "data['store_primary_category'] = data['store_primary_category'].fillna('unknown')\n",
    "data['store_primary_category'].value_counts(dropna=False)"
   ]
  },
  {
   "cell_type": "code",
   "execution_count": 5,
   "metadata": {},
   "outputs": [],
   "source": [
    "# Convert 'created_at' and 'actual_delivery_time' to datetime format, handling errors\n",
    "data['created_at'] = pd.to_datetime(data['created_at'], errors='coerce', utc=True)\n",
    "data['actual_delivery_time'] = pd.to_datetime(data['actual_delivery_time'], errors='coerce', utc=True)"
   ]
  },
  {
   "cell_type": "code",
   "execution_count": 6,
   "metadata": {},
   "outputs": [
    {
     "name": "stdout",
     "output_type": "stream",
     "text": [
      "<class 'pandas.core.frame.DataFrame'>\n",
      "RangeIndex: 197421 entries, 0 to 197420\n",
      "Data columns (total 39 columns):\n",
      " #   Column                                                   Non-Null Count   Dtype              \n",
      "---  ------                                                   --------------   -----              \n",
      " 0   market_id                                                197421 non-null  float64            \n",
      " 1   created_at                                               197421 non-null  datetime64[ns, UTC]\n",
      " 2   actual_delivery_time                                     197421 non-null  datetime64[ns, UTC]\n",
      " 3   store_id                                                 197421 non-null  int64              \n",
      " 4   store_primary_category                                   197421 non-null  object             \n",
      " 5   order_protocol                                           197421 non-null  float64            \n",
      " 6   total_items                                              197421 non-null  int64              \n",
      " 7   subtotal                                                 197421 non-null  int64              \n",
      " 8   num_distinct_items                                       197421 non-null  int64              \n",
      " 9   min_item_price                                           197421 non-null  int64              \n",
      " 10  max_item_price                                           197421 non-null  int64              \n",
      " 11  total_onshift_dashers                                    197421 non-null  float64            \n",
      " 12  total_busy_dashers                                       197421 non-null  float64            \n",
      " 13  total_outstanding_orders                                 197421 non-null  float64            \n",
      " 14  estimated_order_place_duration                           197421 non-null  int64              \n",
      " 15  estimated_store_to_consumer_driving_duration             196895 non-null  float64            \n",
      " 16  total_delivery_duration                                  197421 non-null  float64            \n",
      " 17  total_delivery_duration_is_outlier                       197421 non-null  bool               \n",
      " 18  total_delivery_duration_corrected                        197421 non-null  float64            \n",
      " 19  total_items_is_outlier                                   197421 non-null  bool               \n",
      " 20  subtotal_is_outlier                                      197421 non-null  bool               \n",
      " 21  num_distinct_items_is_outlier                            197421 non-null  bool               \n",
      " 22  min_item_price_is_outlier                                197421 non-null  bool               \n",
      " 23  max_item_price_is_outlier                                197421 non-null  bool               \n",
      " 24  total_onshift_dashers_is_outlier                         197421 non-null  bool               \n",
      " 25  total_busy_dashers_is_outlier                            197421 non-null  bool               \n",
      " 26  total_outstanding_orders_is_outlier                      197421 non-null  bool               \n",
      " 27  estimated_order_place_duration_is_outlier                197421 non-null  bool               \n",
      " 28  estimated_store_to_consumer_driving_duration_is_outlier  197421 non-null  bool               \n",
      " 29  busy_dashers_ratio                                       197421 non-null  float64            \n",
      " 30  busy_dashers_ratio_is_outlier                            197421 non-null  bool               \n",
      " 31  busy_dashers_ratio_corrected                             197421 non-null  float64            \n",
      " 32  workload_metric                                          197421 non-null  float64            \n",
      " 33  workload_metric_is_outlier                               197421 non-null  bool               \n",
      " 34  workload_metric_corrected                                197421 non-null  float64            \n",
      " 35  avg_item_price                                           197421 non-null  float64            \n",
      " 36  avg_item_price_is_outlier                                197421 non-null  bool               \n",
      " 37  avg_item_price_corrected                                 197421 non-null  float64            \n",
      " 38  day_of_week                                              197421 non-null  int64              \n",
      "dtypes: bool(14), datetime64[ns, UTC](2), float64(14), int64(8), object(1)\n",
      "memory usage: 40.3+ MB\n"
     ]
    }
   ],
   "source": [
    "data.info()"
   ]
  },
  {
   "cell_type": "code",
   "execution_count": 7,
   "metadata": {},
   "outputs": [],
   "source": [
    "# Feature extraction from 'created_at'\n",
    "data['hour_of_day'] = data['created_at'].dt.hour\n",
    "data['day_of_week'] = data['created_at'].dt.dayofweek\n",
    "data['is_weekend'] = data['day_of_week'].isin([5, 6]).astype(int)"
   ]
  },
  {
   "cell_type": "code",
   "execution_count": 8,
   "metadata": {},
   "outputs": [],
   "source": [
    "# One-hot encoding for other categorical variables\n",
    "data = pd.get_dummies(data, columns=['store_primary_category', 'order_protocol'], drop_first=True)"
   ]
  },
  {
   "cell_type": "code",
   "execution_count": 9,
   "metadata": {},
   "outputs": [],
   "source": [
    "# Frequency encoding for 'store_id' and 'market_id'\n",
    "store_id_counts = data['store_id'].value_counts()\n",
    "data['store_id_freq'] = data['store_id'].map(store_id_counts)\n",
    "\n",
    "market_id_counts = data['market_id'].value_counts()\n",
    "data['market_id_freq'] = data['market_id'].map(market_id_counts)"
   ]
  },
  {
   "cell_type": "code",
   "execution_count": 10,
   "metadata": {},
   "outputs": [],
   "source": [
    "# Use the corrected features where outliers have been handled\n",
    "data['total_delivery_duration'] = data['total_delivery_duration_corrected']\n",
    "data['busy_dashers_ratio'] = data['busy_dashers_ratio_corrected']\n",
    "data['workload_metric'] = data['workload_metric_corrected']\n",
    "data['avg_item_price'] = data['avg_item_price_corrected']"
   ]
  },
  {
   "cell_type": "code",
   "execution_count": 11,
   "metadata": {},
   "outputs": [
    {
     "name": "stderr",
     "output_type": "stream",
     "text": [
      "/Users/diegovelez/Documents/Documents - Ifrit/03 RESOURCES/Courses/Henry/Delivery Duration Prediction - DoorDash/env/lib/python3.11/site-packages/pandas/core/arraylike.py:399: RuntimeWarning: divide by zero encountered in log1p\n",
      "  result = getattr(ufunc, method)(*inputs, **kwargs)\n",
      "/Users/diegovelez/Documents/Documents - Ifrit/03 RESOURCES/Courses/Henry/Delivery Duration Prediction - DoorDash/env/lib/python3.11/site-packages/pandas/core/arraylike.py:399: RuntimeWarning: invalid value encountered in log1p\n",
      "  result = getattr(ufunc, method)(*inputs, **kwargs)\n"
     ]
    }
   ],
   "source": [
    "# Log transformation of skewed features (including corrected versions)\n",
    "skewed_features = [\n",
    "    'total_items', 'subtotal', 'num_distinct_items', \n",
    "    'min_item_price', 'max_item_price', 'store_id_freq',\n",
    "    'busy_dashers_ratio', 'workload_metric', 'avg_item_price', 'market_id_freq'\n",
    "]\n",
    "for feature in skewed_features:\n",
    "    data[feature] = np.log1p(data[feature])"
   ]
  },
  {
   "cell_type": "code",
   "execution_count": 12,
   "metadata": {},
   "outputs": [],
   "source": [
    "# Drop columns that are no longer needed\n",
    "data.drop(columns=['total_delivery_duration_corrected', 'busy_dashers_ratio_corrected', 'workload_metric_corrected', 'avg_item_price_corrected', 'market_id'], inplace=True)"
   ]
  },
  {
   "cell_type": "markdown",
   "metadata": {},
   "source": [
    "Comments:\n",
    "\n",
    "- We used frequency encoding for both store_id and market_id to represent the relative occurrence of these identifiers.\n",
    "\n",
    "- This approach helps retain information about the prevalence of different identifiers without creating a large number of dummy variables.\n",
    "\n",
    "- Dropping the original market_id column ensures that only the transformed features are used for modeling."
   ]
  },
  {
   "cell_type": "markdown",
   "metadata": {},
   "source": [
    "Handling missing values"
   ]
  },
  {
   "cell_type": "code",
   "execution_count": 15,
   "metadata": {},
   "outputs": [
    {
     "name": "stdout",
     "output_type": "stream",
     "text": [
      "<class 'pandas.core.frame.DataFrame'>\n",
      "RangeIndex: 197421 entries, 0 to 197420\n",
      "Data columns (total 117 columns):\n",
      " #    Column                                                   Non-Null Count   Dtype              \n",
      "---   ------                                                   --------------   -----              \n",
      " 0    created_at                                               197421 non-null  datetime64[ns, UTC]\n",
      " 1    actual_delivery_time                                     197421 non-null  datetime64[ns, UTC]\n",
      " 2    store_id                                                 197421 non-null  int64              \n",
      " 3    total_items                                              197421 non-null  float64            \n",
      " 4    subtotal                                                 197421 non-null  float64            \n",
      " 5    num_distinct_items                                       197421 non-null  float64            \n",
      " 6    min_item_price                                           197409 non-null  float64            \n",
      " 7    max_item_price                                           197421 non-null  float64            \n",
      " 8    total_onshift_dashers                                    197421 non-null  float64            \n",
      " 9    total_busy_dashers                                       197421 non-null  float64            \n",
      " 10   total_outstanding_orders                                 197421 non-null  float64            \n",
      " 11   estimated_order_place_duration                           197421 non-null  int64              \n",
      " 12   estimated_store_to_consumer_driving_duration             196895 non-null  float64            \n",
      " 13   total_delivery_duration                                  197421 non-null  float64            \n",
      " 14   total_delivery_duration_is_outlier                       197421 non-null  bool               \n",
      " 15   total_items_is_outlier                                   197421 non-null  bool               \n",
      " 16   subtotal_is_outlier                                      197421 non-null  bool               \n",
      " 17   num_distinct_items_is_outlier                            197421 non-null  bool               \n",
      " 18   min_item_price_is_outlier                                197421 non-null  bool               \n",
      " 19   max_item_price_is_outlier                                197421 non-null  bool               \n",
      " 20   total_onshift_dashers_is_outlier                         197421 non-null  bool               \n",
      " 21   total_busy_dashers_is_outlier                            197421 non-null  bool               \n",
      " 22   total_outstanding_orders_is_outlier                      197421 non-null  bool               \n",
      " 23   estimated_order_place_duration_is_outlier                197421 non-null  bool               \n",
      " 24   estimated_store_to_consumer_driving_duration_is_outlier  197421 non-null  bool               \n",
      " 25   busy_dashers_ratio                                       197421 non-null  float64            \n",
      " 26   busy_dashers_ratio_is_outlier                            197421 non-null  bool               \n",
      " 27   workload_metric                                          197421 non-null  float64            \n",
      " 28   workload_metric_is_outlier                               197421 non-null  bool               \n",
      " 29   avg_item_price                                           197421 non-null  float64            \n",
      " 30   avg_item_price_is_outlier                                197421 non-null  bool               \n",
      " 31   day_of_week                                              197421 non-null  int32              \n",
      " 32   hour_of_day                                              197421 non-null  int32              \n",
      " 33   is_weekend                                               197421 non-null  int64              \n",
      " 34   store_primary_category_african                           197421 non-null  bool               \n",
      " 35   store_primary_category_alcohol                           197421 non-null  bool               \n",
      " 36   store_primary_category_alcohol-plus-food                 197421 non-null  bool               \n",
      " 37   store_primary_category_american                          197421 non-null  bool               \n",
      " 38   store_primary_category_argentine                         197421 non-null  bool               \n",
      " 39   store_primary_category_asian                             197421 non-null  bool               \n",
      " 40   store_primary_category_barbecue                          197421 non-null  bool               \n",
      " 41   store_primary_category_belgian                           197421 non-null  bool               \n",
      " 42   store_primary_category_brazilian                         197421 non-null  bool               \n",
      " 43   store_primary_category_breakfast                         197421 non-null  bool               \n",
      " 44   store_primary_category_british                           197421 non-null  bool               \n",
      " 45   store_primary_category_bubble-tea                        197421 non-null  bool               \n",
      " 46   store_primary_category_burger                            197421 non-null  bool               \n",
      " 47   store_primary_category_burmese                           197421 non-null  bool               \n",
      " 48   store_primary_category_cafe                              197421 non-null  bool               \n",
      " 49   store_primary_category_cajun                             197421 non-null  bool               \n",
      " 50   store_primary_category_caribbean                         197421 non-null  bool               \n",
      " 51   store_primary_category_catering                          197421 non-null  bool               \n",
      " 52   store_primary_category_cheese                            197421 non-null  bool               \n",
      " 53   store_primary_category_chinese                           197421 non-null  bool               \n",
      " 54   store_primary_category_chocolate                         197421 non-null  bool               \n",
      " 55   store_primary_category_comfort-food                      197421 non-null  bool               \n",
      " 56   store_primary_category_convenience-store                 197421 non-null  bool               \n",
      " 57   store_primary_category_dessert                           197421 non-null  bool               \n",
      " 58   store_primary_category_dim-sum                           197421 non-null  bool               \n",
      " 59   store_primary_category_ethiopian                         197421 non-null  bool               \n",
      " 60   store_primary_category_european                          197421 non-null  bool               \n",
      " 61   store_primary_category_fast                              197421 non-null  bool               \n",
      " 62   store_primary_category_filipino                          197421 non-null  bool               \n",
      " 63   store_primary_category_french                            197421 non-null  bool               \n",
      " 64   store_primary_category_gastropub                         197421 non-null  bool               \n",
      " 65   store_primary_category_german                            197421 non-null  bool               \n",
      " 66   store_primary_category_gluten-free                       197421 non-null  bool               \n",
      " 67   store_primary_category_greek                             197421 non-null  bool               \n",
      " 68   store_primary_category_hawaiian                          197421 non-null  bool               \n",
      " 69   store_primary_category_indian                            197421 non-null  bool               \n",
      " 70   store_primary_category_indonesian                        197421 non-null  bool               \n",
      " 71   store_primary_category_irish                             197421 non-null  bool               \n",
      " 72   store_primary_category_italian                           197421 non-null  bool               \n",
      " 73   store_primary_category_japanese                          197421 non-null  bool               \n",
      " 74   store_primary_category_korean                            197421 non-null  bool               \n",
      " 75   store_primary_category_kosher                            197421 non-null  bool               \n",
      " 76   store_primary_category_latin-american                    197421 non-null  bool               \n",
      " 77   store_primary_category_lebanese                          197421 non-null  bool               \n",
      " 78   store_primary_category_malaysian                         197421 non-null  bool               \n",
      " 79   store_primary_category_mediterranean                     197421 non-null  bool               \n",
      " 80   store_primary_category_mexican                           197421 non-null  bool               \n",
      " 81   store_primary_category_middle-eastern                    197421 non-null  bool               \n",
      " 82   store_primary_category_moroccan                          197421 non-null  bool               \n",
      " 83   store_primary_category_nepalese                          197421 non-null  bool               \n",
      " 84   store_primary_category_other                             197421 non-null  bool               \n",
      " 85   store_primary_category_pakistani                         197421 non-null  bool               \n",
      " 86   store_primary_category_pasta                             197421 non-null  bool               \n",
      " 87   store_primary_category_persian                           197421 non-null  bool               \n",
      " 88   store_primary_category_peruvian                          197421 non-null  bool               \n",
      " 89   store_primary_category_pizza                             197421 non-null  bool               \n",
      " 90   store_primary_category_russian                           197421 non-null  bool               \n",
      " 91   store_primary_category_salad                             197421 non-null  bool               \n",
      " 92   store_primary_category_sandwich                          197421 non-null  bool               \n",
      " 93   store_primary_category_seafood                           197421 non-null  bool               \n",
      " 94   store_primary_category_singaporean                       197421 non-null  bool               \n",
      " 95   store_primary_category_smoothie                          197421 non-null  bool               \n",
      " 96   store_primary_category_soup                              197421 non-null  bool               \n",
      " 97   store_primary_category_southern                          197421 non-null  bool               \n",
      " 98   store_primary_category_spanish                           197421 non-null  bool               \n",
      " 99   store_primary_category_steak                             197421 non-null  bool               \n",
      " 100  store_primary_category_sushi                             197421 non-null  bool               \n",
      " 101  store_primary_category_tapas                             197421 non-null  bool               \n",
      " 102  store_primary_category_thai                              197421 non-null  bool               \n",
      " 103  store_primary_category_turkish                           197421 non-null  bool               \n",
      " 104  store_primary_category_unknown                           197421 non-null  bool               \n",
      " 105  store_primary_category_vegan                             197421 non-null  bool               \n",
      " 106  store_primary_category_vegetarian                        197421 non-null  bool               \n",
      " 107  store_primary_category_vietnamese                        197421 non-null  bool               \n",
      " 108  order_protocol_1.0                                       197421 non-null  bool               \n",
      " 109  order_protocol_2.0                                       197421 non-null  bool               \n",
      " 110  order_protocol_3.0                                       197421 non-null  bool               \n",
      " 111  order_protocol_4.0                                       197421 non-null  bool               \n",
      " 112  order_protocol_5.0                                       197421 non-null  bool               \n",
      " 113  order_protocol_6.0                                       197421 non-null  bool               \n",
      " 114  order_protocol_7.0                                       197421 non-null  bool               \n",
      " 115  store_id_freq                                            197421 non-null  float64            \n",
      " 116  market_id_freq                                           197421 non-null  float64            \n",
      "dtypes: bool(95), datetime64[ns, UTC](2), float64(15), int32(2), int64(3)\n",
      "memory usage: 49.5 MB\n"
     ]
    }
   ],
   "source": [
    "data.info(verbose=True, show_counts=True)"
   ]
  },
  {
   "cell_type": "code",
   "execution_count": 14,
   "metadata": {},
   "outputs": [
    {
     "data": {
      "text/plain": [
       "12"
      ]
     },
     "execution_count": 14,
     "metadata": {},
     "output_type": "execute_result"
    }
   ],
   "source": [
    "data['min_item_price'].isnull().sum()"
   ]
  },
  {
   "cell_type": "code",
   "execution_count": 16,
   "metadata": {},
   "outputs": [
    {
     "data": {
      "text/plain": [
       "526"
      ]
     },
     "execution_count": 16,
     "metadata": {},
     "output_type": "execute_result"
    }
   ],
   "source": [
    "data['estimated_store_to_consumer_driving_duration'].isnull().sum()"
   ]
  },
  {
   "cell_type": "code",
   "execution_count": 17,
   "metadata": {},
   "outputs": [
    {
     "name": "stderr",
     "output_type": "stream",
     "text": [
      "/var/folders/j1/pdsb5w0x52sgplylm6f7fmgm0000gn/T/ipykernel_27938/1117974825.py:2: FutureWarning: A value is trying to be set on a copy of a DataFrame or Series through chained assignment using an inplace method.\n",
      "The behavior will change in pandas 3.0. This inplace method will never work because the intermediate object on which we are setting values always behaves as a copy.\n",
      "\n",
      "For example, when doing 'df[col].method(value, inplace=True)', try using 'df.method({col: value}, inplace=True)' or df[col] = df[col].method(value) instead, to perform the operation inplace on the original object.\n",
      "\n",
      "\n",
      "  data['min_item_price'].fillna(data['min_item_price'].median(), inplace=True)\n",
      "/var/folders/j1/pdsb5w0x52sgplylm6f7fmgm0000gn/T/ipykernel_27938/1117974825.py:3: FutureWarning: A value is trying to be set on a copy of a DataFrame or Series through chained assignment using an inplace method.\n",
      "The behavior will change in pandas 3.0. This inplace method will never work because the intermediate object on which we are setting values always behaves as a copy.\n",
      "\n",
      "For example, when doing 'df[col].method(value, inplace=True)', try using 'df.method({col: value}, inplace=True)' or df[col] = df[col].method(value) instead, to perform the operation inplace on the original object.\n",
      "\n",
      "\n",
      "  data['estimated_store_to_consumer_driving_duration'].fillna(\n"
     ]
    }
   ],
   "source": [
    "# Handle missing values specifically for the known columns with nulls\n",
    "data['min_item_price'].fillna(data['min_item_price'].median(), inplace=True)\n",
    "data['estimated_store_to_consumer_driving_duration'].fillna(\n",
    "    data['estimated_store_to_consumer_driving_duration'].median(), inplace=True\n",
    ")"
   ]
  },
  {
   "cell_type": "code",
   "execution_count": 20,
   "metadata": {},
   "outputs": [
    {
     "name": "stdout",
     "output_type": "stream",
     "text": [
      "0\n"
     ]
    }
   ],
   "source": [
    "print(data.isnull().sum().sum())"
   ]
  },
  {
   "cell_type": "code",
   "execution_count": 21,
   "metadata": {},
   "outputs": [],
   "source": [
    "# Save processed data\n",
    "processed_data_path = \"../data/processed/processed_data.csv\"\n",
    "data.to_csv(processed_data_path, index=False)"
   ]
  }
 ],
 "metadata": {
  "kernelspec": {
   "display_name": "env",
   "language": "python",
   "name": "python3"
  },
  "language_info": {
   "codemirror_mode": {
    "name": "ipython",
    "version": 3
   },
   "file_extension": ".py",
   "mimetype": "text/x-python",
   "name": "python",
   "nbconvert_exporter": "python",
   "pygments_lexer": "ipython3",
   "version": "3.11.6"
  }
 },
 "nbformat": 4,
 "nbformat_minor": 2
}
