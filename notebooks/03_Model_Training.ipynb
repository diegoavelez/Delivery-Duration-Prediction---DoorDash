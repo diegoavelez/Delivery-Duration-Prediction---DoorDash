{
 "cells": [
  {
   "cell_type": "code",
   "execution_count": 12,
   "metadata": {},
   "outputs": [],
   "source": [
    "# Import libraries\n",
    "import pandas as pd\n",
    "import numpy as np\n",
    "from sklearn.model_selection import train_test_split, GridSearchCV\n",
    "from sklearn.preprocessing import StandardScaler\n",
    "from sklearn.cluster import KMeans\n",
    "from sklearn.decomposition import PCA\n",
    "from sklearn.ensemble import RandomForestRegressor\n",
    "from xgboost import XGBRegressor\n",
    "from sklearn.metrics import mean_absolute_error, mean_squared_error\n",
    "import matplotlib.pyplot as plt"
   ]
  },
  {
   "cell_type": "code",
   "execution_count": 2,
   "metadata": {},
   "outputs": [],
   "source": [
    "# Load preprocessed data\n",
    "data = pd.read_csv(\"../data/processed/processed_data.csv\")"
   ]
  },
  {
   "cell_type": "code",
   "execution_count": 3,
   "metadata": {},
   "outputs": [],
   "source": [
    "# Convert 'created_at' and 'actual_delivery_time' to datetime format, handling errors\n",
    "data['created_at'] = pd.to_datetime(data['created_at'], errors='coerce', utc=True)\n",
    "data['actual_delivery_time'] = pd.to_datetime(data['actual_delivery_time'], errors='coerce', utc=True)\n"
   ]
  },
  {
   "cell_type": "code",
   "execution_count": 4,
   "metadata": {},
   "outputs": [
    {
     "name": "stdout",
     "output_type": "stream",
     "text": [
      "<class 'pandas.core.frame.DataFrame'>\n",
      "RangeIndex: 197421 entries, 0 to 197420\n",
      "Data columns (total 117 columns):\n",
      " #    Column                                                   Non-Null Count   Dtype              \n",
      "---   ------                                                   --------------   -----              \n",
      " 0    created_at                                               197421 non-null  datetime64[ns, UTC]\n",
      " 1    actual_delivery_time                                     197421 non-null  datetime64[ns, UTC]\n",
      " 2    store_id                                                 197421 non-null  int64              \n",
      " 3    total_items                                              197421 non-null  float64            \n",
      " 4    subtotal                                                 197421 non-null  float64            \n",
      " 5    num_distinct_items                                       197421 non-null  float64            \n",
      " 6    min_item_price                                           197421 non-null  float64            \n",
      " 7    max_item_price                                           197421 non-null  float64            \n",
      " 8    total_onshift_dashers                                    197421 non-null  float64            \n",
      " 9    total_busy_dashers                                       197421 non-null  float64            \n",
      " 10   total_outstanding_orders                                 197421 non-null  float64            \n",
      " 11   estimated_order_place_duration                           197421 non-null  int64              \n",
      " 12   estimated_store_to_consumer_driving_duration             197421 non-null  float64            \n",
      " 13   total_delivery_duration                                  197421 non-null  float64            \n",
      " 14   total_delivery_duration_is_outlier                       197421 non-null  bool               \n",
      " 15   total_items_is_outlier                                   197421 non-null  bool               \n",
      " 16   subtotal_is_outlier                                      197421 non-null  bool               \n",
      " 17   num_distinct_items_is_outlier                            197421 non-null  bool               \n",
      " 18   min_item_price_is_outlier                                197421 non-null  bool               \n",
      " 19   max_item_price_is_outlier                                197421 non-null  bool               \n",
      " 20   total_onshift_dashers_is_outlier                         197421 non-null  bool               \n",
      " 21   total_busy_dashers_is_outlier                            197421 non-null  bool               \n",
      " 22   total_outstanding_orders_is_outlier                      197421 non-null  bool               \n",
      " 23   estimated_order_place_duration_is_outlier                197421 non-null  bool               \n",
      " 24   estimated_store_to_consumer_driving_duration_is_outlier  197421 non-null  bool               \n",
      " 25   busy_dashers_ratio                                       197421 non-null  float64            \n",
      " 26   busy_dashers_ratio_is_outlier                            197421 non-null  bool               \n",
      " 27   workload_metric                                          197421 non-null  float64            \n",
      " 28   workload_metric_is_outlier                               197421 non-null  bool               \n",
      " 29   avg_item_price                                           197421 non-null  float64            \n",
      " 30   avg_item_price_is_outlier                                197421 non-null  bool               \n",
      " 31   day_of_week                                              197421 non-null  int64              \n",
      " 32   hour_of_day                                              197421 non-null  int64              \n",
      " 33   is_weekend                                               197421 non-null  int64              \n",
      " 34   store_primary_category_african                           197421 non-null  bool               \n",
      " 35   store_primary_category_alcohol                           197421 non-null  bool               \n",
      " 36   store_primary_category_alcohol-plus-food                 197421 non-null  bool               \n",
      " 37   store_primary_category_american                          197421 non-null  bool               \n",
      " 38   store_primary_category_argentine                         197421 non-null  bool               \n",
      " 39   store_primary_category_asian                             197421 non-null  bool               \n",
      " 40   store_primary_category_barbecue                          197421 non-null  bool               \n",
      " 41   store_primary_category_belgian                           197421 non-null  bool               \n",
      " 42   store_primary_category_brazilian                         197421 non-null  bool               \n",
      " 43   store_primary_category_breakfast                         197421 non-null  bool               \n",
      " 44   store_primary_category_british                           197421 non-null  bool               \n",
      " 45   store_primary_category_bubble-tea                        197421 non-null  bool               \n",
      " 46   store_primary_category_burger                            197421 non-null  bool               \n",
      " 47   store_primary_category_burmese                           197421 non-null  bool               \n",
      " 48   store_primary_category_cafe                              197421 non-null  bool               \n",
      " 49   store_primary_category_cajun                             197421 non-null  bool               \n",
      " 50   store_primary_category_caribbean                         197421 non-null  bool               \n",
      " 51   store_primary_category_catering                          197421 non-null  bool               \n",
      " 52   store_primary_category_cheese                            197421 non-null  bool               \n",
      " 53   store_primary_category_chinese                           197421 non-null  bool               \n",
      " 54   store_primary_category_chocolate                         197421 non-null  bool               \n",
      " 55   store_primary_category_comfort-food                      197421 non-null  bool               \n",
      " 56   store_primary_category_convenience-store                 197421 non-null  bool               \n",
      " 57   store_primary_category_dessert                           197421 non-null  bool               \n",
      " 58   store_primary_category_dim-sum                           197421 non-null  bool               \n",
      " 59   store_primary_category_ethiopian                         197421 non-null  bool               \n",
      " 60   store_primary_category_european                          197421 non-null  bool               \n",
      " 61   store_primary_category_fast                              197421 non-null  bool               \n",
      " 62   store_primary_category_filipino                          197421 non-null  bool               \n",
      " 63   store_primary_category_french                            197421 non-null  bool               \n",
      " 64   store_primary_category_gastropub                         197421 non-null  bool               \n",
      " 65   store_primary_category_german                            197421 non-null  bool               \n",
      " 66   store_primary_category_gluten-free                       197421 non-null  bool               \n",
      " 67   store_primary_category_greek                             197421 non-null  bool               \n",
      " 68   store_primary_category_hawaiian                          197421 non-null  bool               \n",
      " 69   store_primary_category_indian                            197421 non-null  bool               \n",
      " 70   store_primary_category_indonesian                        197421 non-null  bool               \n",
      " 71   store_primary_category_irish                             197421 non-null  bool               \n",
      " 72   store_primary_category_italian                           197421 non-null  bool               \n",
      " 73   store_primary_category_japanese                          197421 non-null  bool               \n",
      " 74   store_primary_category_korean                            197421 non-null  bool               \n",
      " 75   store_primary_category_kosher                            197421 non-null  bool               \n",
      " 76   store_primary_category_latin-american                    197421 non-null  bool               \n",
      " 77   store_primary_category_lebanese                          197421 non-null  bool               \n",
      " 78   store_primary_category_malaysian                         197421 non-null  bool               \n",
      " 79   store_primary_category_mediterranean                     197421 non-null  bool               \n",
      " 80   store_primary_category_mexican                           197421 non-null  bool               \n",
      " 81   store_primary_category_middle-eastern                    197421 non-null  bool               \n",
      " 82   store_primary_category_moroccan                          197421 non-null  bool               \n",
      " 83   store_primary_category_nepalese                          197421 non-null  bool               \n",
      " 84   store_primary_category_other                             197421 non-null  bool               \n",
      " 85   store_primary_category_pakistani                         197421 non-null  bool               \n",
      " 86   store_primary_category_pasta                             197421 non-null  bool               \n",
      " 87   store_primary_category_persian                           197421 non-null  bool               \n",
      " 88   store_primary_category_peruvian                          197421 non-null  bool               \n",
      " 89   store_primary_category_pizza                             197421 non-null  bool               \n",
      " 90   store_primary_category_russian                           197421 non-null  bool               \n",
      " 91   store_primary_category_salad                             197421 non-null  bool               \n",
      " 92   store_primary_category_sandwich                          197421 non-null  bool               \n",
      " 93   store_primary_category_seafood                           197421 non-null  bool               \n",
      " 94   store_primary_category_singaporean                       197421 non-null  bool               \n",
      " 95   store_primary_category_smoothie                          197421 non-null  bool               \n",
      " 96   store_primary_category_soup                              197421 non-null  bool               \n",
      " 97   store_primary_category_southern                          197421 non-null  bool               \n",
      " 98   store_primary_category_spanish                           197421 non-null  bool               \n",
      " 99   store_primary_category_steak                             197421 non-null  bool               \n",
      " 100  store_primary_category_sushi                             197421 non-null  bool               \n",
      " 101  store_primary_category_tapas                             197421 non-null  bool               \n",
      " 102  store_primary_category_thai                              197421 non-null  bool               \n",
      " 103  store_primary_category_turkish                           197421 non-null  bool               \n",
      " 104  store_primary_category_unknown                           197421 non-null  bool               \n",
      " 105  store_primary_category_vegan                             197421 non-null  bool               \n",
      " 106  store_primary_category_vegetarian                        197421 non-null  bool               \n",
      " 107  store_primary_category_vietnamese                        197421 non-null  bool               \n",
      " 108  order_protocol_1.0                                       197421 non-null  bool               \n",
      " 109  order_protocol_2.0                                       197421 non-null  bool               \n",
      " 110  order_protocol_3.0                                       197421 non-null  bool               \n",
      " 111  order_protocol_4.0                                       197421 non-null  bool               \n",
      " 112  order_protocol_5.0                                       197421 non-null  bool               \n",
      " 113  order_protocol_6.0                                       197421 non-null  bool               \n",
      " 114  order_protocol_7.0                                       197421 non-null  bool               \n",
      " 115  store_id_freq                                            197421 non-null  float64            \n",
      " 116  market_id_freq                                           197421 non-null  float64            \n",
      "dtypes: bool(95), datetime64[ns, UTC](2), float64(15), int64(5)\n",
      "memory usage: 51.0 MB\n"
     ]
    }
   ],
   "source": [
    "data.info(verbose=True, show_counts=True)"
   ]
  },
  {
   "cell_type": "code",
   "execution_count": 5,
   "metadata": {},
   "outputs": [],
   "source": [
    "# Ensure only numeric columns are used as features\n",
    "X = data.select_dtypes(include=[np.number]).drop(columns=['total_delivery_duration'])\n",
    "y = data['total_delivery_duration']\n",
    "\n",
    "# Handle infinite values, if any, in the feature set\n",
    "X.replace([np.inf, -np.inf], np.nan, inplace=True)\n",
    "\n",
    "# Recheck for any remaining NaN values and fill them as a precaution\n",
    "X.fillna(X.median(), inplace=True)\n",
    "\n",
    "# Train/test split\n",
    "X_train, X_test, y_train, y_test = train_test_split(X, y, test_size=0.2, random_state=42)"
   ]
  },
  {
   "cell_type": "code",
   "execution_count": 6,
   "metadata": {},
   "outputs": [
    {
     "name": "stderr",
     "output_type": "stream",
     "text": [
      "/Users/diegovelez/Documents/Documents - Ifrit/03 RESOURCES/Courses/Henry/Delivery Duration Prediction - DoorDash/env/lib/python3.11/site-packages/joblib/externals/loky/process_executor.py:752: UserWarning: A worker stopped while some jobs were given to the executor. This can be caused by a too short worker timeout or by a memory leak.\n",
      "  warnings.warn(\n"
     ]
    }
   ],
   "source": [
    "# Random Forest model\n",
    "rf = RandomForestRegressor(random_state=42)\n",
    "param_grid_rf = {\n",
    "    'n_estimators': [100, 200],\n",
    "    'max_depth': [10, 20, None],\n",
    "    'min_samples_split': [2, 5],\n",
    "    'min_samples_leaf': [1, 2]\n",
    "}\n",
    "\n",
    "grid_search_rf = GridSearchCV(\n",
    "    rf, param_grid_rf, cv=5, scoring='neg_mean_absolute_error', n_jobs=-1\n",
    ")\n",
    "\n",
    "grid_search_rf.fit(X_train, y_train)\n",
    "best_rf = grid_search_rf.best_estimator_"
   ]
  },
  {
   "cell_type": "code",
   "execution_count": 7,
   "metadata": {},
   "outputs": [
    {
     "name": "stdout",
     "output_type": "stream",
     "text": [
      "Random Forest MAE: 613.8645372865406, RMSE: 788.8531403290302\n"
     ]
    }
   ],
   "source": [
    "# Evaluate the Random Forest model\n",
    "y_pred_rf = best_rf.predict(X_test)\n",
    "rf_mae = mean_absolute_error(y_test, y_pred_rf)\n",
    "rf_rmse = np.sqrt(mean_squared_error(y_test, y_pred_rf))\n",
    "print(f'Random Forest MAE: {rf_mae}, RMSE: {rf_rmse}')"
   ]
  },
  {
   "cell_type": "code",
   "execution_count": 8,
   "metadata": {},
   "outputs": [
    {
     "name": "stderr",
     "output_type": "stream",
     "text": [
      "/Users/diegovelez/Documents/Documents - Ifrit/03 RESOURCES/Courses/Henry/Delivery Duration Prediction - DoorDash/env/lib/python3.11/site-packages/joblib/externals/loky/process_executor.py:752: UserWarning: A worker stopped while some jobs were given to the executor. This can be caused by a too short worker timeout or by a memory leak.\n",
      "  warnings.warn(\n"
     ]
    }
   ],
   "source": [
    "# XGBoost model\n",
    "xgb = XGBRegressor(random_state=42, tree_method='hist')\n",
    "param_grid_xgb = {\n",
    "    'n_estimators': [100, 200],\n",
    "    'max_depth': [3, 6],\n",
    "    'learning_rate': [0.1, 0.05],\n",
    "    'subsample': [0.8, 1]\n",
    "}\n",
    "grid_search_xgb = GridSearchCV(\n",
    "    xgb, param_grid_xgb, cv=5, scoring='neg_mean_absolute_error', n_jobs=-1\n",
    ")\n",
    "grid_search_xgb.fit(X_train, y_train)\n",
    "best_xgb = grid_search_xgb.best_estimator_"
   ]
  },
  {
   "cell_type": "code",
   "execution_count": 9,
   "metadata": {},
   "outputs": [
    {
     "name": "stdout",
     "output_type": "stream",
     "text": [
      "XGBoost MAE: 591.9250061522077, RMSE: 764.9809958048869\n"
     ]
    }
   ],
   "source": [
    "# Evaluate the XGBoost model\n",
    "y_pred_xgb = best_xgb.predict(X_test)\n",
    "xgb_mae = mean_absolute_error(y_test, y_pred_xgb)\n",
    "xgb_rmse = np.sqrt(mean_squared_error(y_test, y_pred_xgb))\n",
    "print(f'XGBoost MAE: {xgb_mae}, RMSE: {xgb_rmse}')\n"
   ]
  },
  {
   "cell_type": "code",
   "execution_count": 10,
   "metadata": {},
   "outputs": [
    {
     "data": {
      "text/plain": [
       "['../models//best_xgboost_model.pkl']"
      ]
     },
     "execution_count": 10,
     "metadata": {},
     "output_type": "execute_result"
    }
   ],
   "source": [
    "# Save the best models for future use\n",
    "import joblib\n",
    "\n",
    "joblib.dump(best_rf, \"../models/best_random_forest_model.pkl\")\n",
    "joblib.dump(best_xgb, \"../models//best_xgboost_model.pkl\")"
   ]
  },
  {
   "cell_type": "markdown",
   "metadata": {},
   "source": [
    "As we found XGBoos as the best model for now, we will improve it to reduce the margin error, around 10 minutes, which is high considering the average total_delivery_duration."
   ]
  },
  {
   "cell_type": "code",
   "execution_count": 11,
   "metadata": {},
   "outputs": [
    {
     "name": "stdout",
     "output_type": "stream",
     "text": [
      "Average Delivery Duration: 2822.7809858120463 seconds (47.05 minutes)\n",
      "Median Delivery Duration: 2660.0 seconds (44.33 minutes)\n"
     ]
    }
   ],
   "source": [
    "average_duration = data['total_delivery_duration'].mean()\n",
    "median_duration = data['total_delivery_duration'].median()\n",
    "print(f\"Average Delivery Duration: {average_duration} seconds ({average_duration / 60:.2f} minutes)\")\n",
    "print(f\"Median Delivery Duration: {median_duration} seconds ({median_duration / 60:.2f} minutes)\")"
   ]
  },
  {
   "cell_type": "markdown",
   "metadata": {},
   "source": [
    "Feature Engineering:\n",
    "- Added time-based features like hour_of_day, day_of_week, and is_weekend to capture delivery patterns based on timing.\n",
    "- Introduced peak-hour flags (is_lunch_rush, is_dinner_rush) to identify common busy periods for deliveries.\n",
    "- Created interaction features (busy_dashers_per_order and workload_ratio) to capture the effect of workforce load relative to demand."
   ]
  },
  {
   "cell_type": "code",
   "execution_count": 14,
   "metadata": {},
   "outputs": [],
   "source": [
    "# Extract additional time-based features\n",
    "data['hour_of_day'] = data['created_at'].dt.hour\n",
    "data['day_of_week'] = data['created_at'].dt.dayofweek\n",
    "data['is_weekend'] = data['day_of_week'].isin([5, 6]).astype(int)"
   ]
  },
  {
   "cell_type": "code",
   "execution_count": 15,
   "metadata": {},
   "outputs": [],
   "source": [
    "# Generate peak-hour flags\n",
    "data['is_lunch_rush'] = data['hour_of_day'].isin([11, 12, 13]).astype(int)\n",
    "data['is_dinner_rush'] = data['hour_of_day'].isin([18, 19, 20]).astype(int)\n",
    "\n",
    "# Interaction terms\n",
    "data['busy_dashers_per_order'] = data['total_busy_dashers'] / (data['total_outstanding_orders'] + 1)\n",
    "data['workload_ratio'] = data['total_outstanding_orders'] / (data['total_onshift_dashers'] + 1)"
   ]
  },
  {
   "cell_type": "code",
   "execution_count": 23,
   "metadata": {},
   "outputs": [],
   "source": [
    "# Drop unnecessary columns\n",
    "data = data.drop(columns=['created_at', 'actual_delivery_time'])"
   ]
  },
  {
   "cell_type": "markdown",
   "metadata": {},
   "source": [
    "Handling Categorical and Boolean Columns:\n",
    "- Boolean columns (such as the outlier flags) are converted to integer types for compatibility with XGBoost."
   ]
  },
  {
   "cell_type": "code",
   "execution_count": 21,
   "metadata": {},
   "outputs": [],
   "source": [
    "# Handling Categorical and Boolean Columns\n",
    "# Convert boolean columns to integers for model compatibility\n",
    "bool_cols = data.select_dtypes(include='bool').columns\n",
    "data[bool_cols] = data[bool_cols].astype(int)\n"
   ]
  },
  {
   "cell_type": "markdown",
   "metadata": {},
   "source": [
    "Scaling:\n",
    "- Selected numeric columns are scaled with StandardScaler to normalize features. This is essential for models like XGBoost, where feature scaling can enhance performance."
   ]
  },
  {
   "cell_type": "code",
   "execution_count": 25,
   "metadata": {},
   "outputs": [],
   "source": [
    "# Handle outliers based on existing boolean outlier columns\n",
    "numeric_features = ['total_items', 'subtotal', 'num_distinct_items', 'min_item_price', 'max_item_price',\n",
    "                    'busy_dashers_per_order', 'workload_ratio', 'hour_of_day', 'store_id_freq', 'market_id_freq']\n",
    "\n",
    "# For each feature, replace values marked as outliers with the median\n",
    "for feature in numeric_features:\n",
    "    outlier_column = f\"{feature}_is_outlier\"\n",
    "    if outlier_column in data.columns:\n",
    "        median_value = data[feature].median()\n",
    "        data.loc[data[outlier_column] == 1, feature] = median_value"
   ]
  },
  {
   "cell_type": "code",
   "execution_count": 28,
   "metadata": {},
   "outputs": [],
   "source": [
    "# Specific handling for columns with inf/-inf values\n",
    "# Replace inf and -inf with NaN\n",
    "data[['min_item_price', 'busy_dashers_per_order', 'workload_ratio']] = data[['min_item_price', 'busy_dashers_per_order', 'workload_ratio']].replace([np.inf, -np.inf], np.nan)\n",
    "\n",
    "# Fill NaN values with the median for each feature\n",
    "for feature in ['min_item_price', 'busy_dashers_per_order', 'workload_ratio']:\n",
    "    data[feature] = data[feature].fillna(data[feature].median())\n"
   ]
  },
  {
   "cell_type": "code",
   "execution_count": 29,
   "metadata": {},
   "outputs": [],
   "source": [
    "# Scale numerical features\n",
    "scaler = StandardScaler()\n",
    "data[numeric_features] = scaler.fit_transform(data[numeric_features])"
   ]
  },
  {
   "cell_type": "markdown",
   "metadata": {},
   "source": [
    "Hyperparameter Tuning:\n",
    "- Extensive hyperparameter tuning is conducted using GridSearchCV to find the best configuration. This includes parameters like max_depth, n_estimators, learning_rate, subsample, colsample_bytree, reg_alpha, and reg_lambda."
   ]
  },
  {
   "cell_type": "code",
   "execution_count": 30,
   "metadata": {},
   "outputs": [],
   "source": [
    "# Define target and features\n",
    "X = data.drop(columns=['total_delivery_duration'])\n",
    "y = data['total_delivery_duration']\n",
    "\n",
    "# Train/Test Split\n",
    "X_train, X_test, y_train, y_test = train_test_split(X, y, test_size=0.2, random_state=42)\n",
    "\n",
    "# Hyperparameter Tuning for XGBoost\n",
    "param_grid_xgb = {\n",
    "    'n_estimators': [100, 200, 300],\n",
    "    'max_depth': [3, 6, 10],\n",
    "    'learning_rate': [0.1, 0.05, 0.01],\n",
    "    'subsample': [0.8, 1],\n",
    "    'colsample_bytree': [0.8, 1],\n",
    "    'reg_alpha': [0, 0.1, 0.5],\n",
    "    'reg_lambda': [1, 1.5, 2],\n",
    "}\n",
    "\n",
    "# Initialize XGBoost model with tree method for efficiency\n",
    "xgb = XGBRegressor(random_state=42, tree_method='hist')"
   ]
  },
  {
   "cell_type": "code",
   "execution_count": 31,
   "metadata": {},
   "outputs": [
    {
     "name": "stdout",
     "output_type": "stream",
     "text": [
      "Fitting 5 folds for each of 972 candidates, totalling 4860 fits\n"
     ]
    },
    {
     "name": "stderr",
     "output_type": "stream",
     "text": [
      "/Users/diegovelez/Documents/Documents - Ifrit/03 RESOURCES/Courses/Henry/Delivery Duration Prediction - DoorDash/env/lib/python3.11/site-packages/joblib/externals/loky/process_executor.py:752: UserWarning: A worker stopped while some jobs were given to the executor. This can be caused by a too short worker timeout or by a memory leak.\n",
      "  warnings.warn(\n",
      "/Users/diegovelez/Documents/Documents - Ifrit/03 RESOURCES/Courses/Henry/Delivery Duration Prediction - DoorDash/env/lib/python3.11/site-packages/numpy/ma/core.py:2846: RuntimeWarning: invalid value encountered in cast\n",
      "  _data = np.array(data, dtype=dtype, copy=copy,\n"
     ]
    }
   ],
   "source": [
    "# Grid search with 5-fold cross-validation\n",
    "grid_search_xgb = GridSearchCV(xgb, param_grid_xgb, cv=5, scoring='neg_mean_absolute_error', n_jobs=-1, verbose=1)\n",
    "grid_search_xgb.fit(X_train, y_train)\n",
    "\n",
    "# Best estimator\n",
    "best_xgb = grid_search_xgb.best_estimator_"
   ]
  },
  {
   "cell_type": "markdown",
   "metadata": {},
   "source": [
    "Model Evaluation:\n",
    "- MAE and RMSE are calculated for the optimized model to assess its performance.\n",
    "- A bar plot of feature importances is generated to understand which features contribute most to the model’s predictive power."
   ]
  },
  {
   "cell_type": "code",
   "execution_count": 32,
   "metadata": {},
   "outputs": [
    {
     "name": "stdout",
     "output_type": "stream",
     "text": [
      "Optimized XGBoost MAE: 525.2484801480932, RMSE: 679.8895848362806\n"
     ]
    }
   ],
   "source": [
    "# Evaluate the Optimized XGBoost Model\n",
    "y_pred_xgb = best_xgb.predict(X_test)\n",
    "xgb_mae = mean_absolute_error(y_test, y_pred_xgb)\n",
    "xgb_rmse = np.sqrt(mean_squared_error(y_test, y_pred_xgb))\n",
    "print(f'Optimized XGBoost MAE: {xgb_mae}, RMSE: {xgb_rmse}')"
   ]
  },
  {
   "cell_type": "markdown",
   "metadata": {},
   "source": [
    "Model Saving:\n",
    "- The best model is saved as a .pkl file for future use or deployment."
   ]
  },
  {
   "cell_type": "code",
   "execution_count": 33,
   "metadata": {},
   "outputs": [
    {
     "data": {
      "text/plain": [
       "['../models/best_xgboost_optimized_model.pkl']"
      ]
     },
     "execution_count": 33,
     "metadata": {},
     "output_type": "execute_result"
    }
   ],
   "source": [
    "# Save the best model\n",
    "joblib.dump(best_xgb, \"../models/best_xgboost_optimized_model.pkl\")"
   ]
  },
  {
   "cell_type": "code",
   "execution_count": 35,
   "metadata": {},
   "outputs": [
    {
     "data": {
      "image/png": "[encoded data removed]",
      "text/plain": [
       "<Figure size 1000x600 with 1 Axes>"
      ]
     },
     "metadata": {},
     "output_type": "display_data"
    }
   ],
   "source": [
    "# Get feature importances and corresponding feature names\n",
    "feature_importances = best_xgb.feature_importances_\n",
    "features = X.columns\n",
    "\n",
    "# Create a DataFrame with feature names and their importance scores\n",
    "importance_df = pd.DataFrame({'feature': features, 'importance': feature_importances})\n",
    "\n",
    "# Sort the DataFrame by importance in descending order and select the top 20\n",
    "top_features = importance_df.sort_values(by='importance', ascending=False).head(20)\n",
    "\n",
    "# Plot the top 20 features\n",
    "plt.figure(figsize=(10, 6))\n",
    "plt.barh(top_features['feature'], top_features['importance'])\n",
    "plt.xlabel('Feature Importance')\n",
    "plt.title('Top 20 Features by Importance (XGBoost)')\n",
    "plt.gca().invert_yaxis()  # Invert y-axis for better readability\n",
    "plt.show()"
   ]
  },
  {
   "cell_type": "markdown",
   "metadata": {},
   "source": [
    "Top Features in the Model\n",
    "\n",
    "- total_delivery_duration_is_outlier: This feature has the highest importance by a significant margin. It suggests that identifying whether a delivery duration is an outlier has a strong predictive power in estimating the overall delivery time. Outliers may represent unusual conditions, such as extreme traffic or other rare events that significantly affect delivery duration.\n",
    "\n",
    "- subtotal_is_outlier: This feature is the second most important. It implies that unusually high or low order values (subtotals) impact the delivery duration. Higher subtotals might correlate with larger or more complex orders, affecting preparation and delivery times.\n",
    "\n",
    "- workload_metric: This feature, representing the ratio of outstanding orders to available dashers, is highly influential. A high workload could delay delivery times, as dashers may take longer to reach the next customer.\n",
    "\n",
    "- estimated_order_place_duration and estimated_store_to_consumer_driving_duration: These features are directly related to the estimated times for order placement and driving, showing that these internal estimates are valuable for prediction.\n",
    "\n",
    "- hour_of_day: This feature is relevant as it captures the time of day, affecting factors like traffic and restaurant operating efficiency.\n",
    "\n",
    "- Order protocols and store primary categories (such as order_protocol_6.0, store_primary_category_pizza): These features suggest that certain types of orders or cuisines might influence delivery time due to different preparation methods, popularity, or other operational reasons."
   ]
  },
  {
   "cell_type": "markdown",
   "metadata": {},
   "source": [
    "Model Performance\n",
    "\n",
    "- With an MAE of 525.25 seconds (about 8.75 minutes), the model now predicts the delivery duration with a reduced average error compared to previous models. This is a substantial improvement from the initial results.\n",
    "\t\n",
    "- The RMSE of 679.89 seconds (about 11.33 minutes) also suggests that the model handles variability in the data better than before. Although there’s still room for refinement, these results are closer to a reliable delivery estimate."
   ]
  },
  {
   "cell_type": "markdown",
   "metadata": {},
   "source": [
    "Model Conclusion\n",
    "\n",
    "- The optimized XGBoost model is performing significantly better, with important features like total_delivery_duration_is_outlier and workload_metric providing valuable insights. While the model still has a moderate error margin, these results suggest it’s close to practical application, with further fine-tuning potentially reducing errors to an acceptable range for operational use."
   ]
  }
 ],
 "metadata": {
  "kernelspec": {
   "display_name": "env",
   "language": "python",
   "name": "python3"
  },
  "language_info": {
   "codemirror_mode": {
    "name": "ipython",
    "version": 3
   },
   "file_extension": ".py",
   "mimetype": "text/x-python",
   "name": "python",
   "nbconvert_exporter": "python",
   "pygments_lexer": "ipython3",
   "version": "3.11.6"
  }
 },
 "nbformat": 4,
 "nbformat_minor": 2
}
