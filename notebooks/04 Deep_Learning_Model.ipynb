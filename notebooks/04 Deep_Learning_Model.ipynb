{
 "cells": [
  {
   "cell_type": "code",
   "execution_count": 1,
   "metadata": {},
   "outputs": [],
   "source": [
    "# Import libraries\n",
    "import numpy as np\n",
    "import pandas as pd\n",
    "from sklearn.model_selection import train_test_split\n",
    "from sklearn.preprocessing import StandardScaler\n",
    "import tensorflow as tf\n",
    "from tensorflow.keras.models import Sequential\n",
    "from tensorflow.keras.layers import Dense, Dropout, BatchNormalization\n",
    "from tensorflow.keras.callbacks import EarlyStopping\n",
    "import matplotlib.pyplot as plt\n"
   ]
  },
  {
   "cell_type": "markdown",
   "metadata": {},
   "source": [
    "### Data Loading and Preparation:\n",
    "Load the processed dataset (processed_data.csv), which has all preprocessed features."
   ]
  },
  {
   "cell_type": "code",
   "execution_count": 2,
   "metadata": {},
   "outputs": [],
   "source": [
    "# Load preprocessed data\n",
    "data = pd.read_csv(\"../data/processed/processed_data.csv\")"
   ]
  },
  {
   "cell_type": "code",
   "execution_count": 3,
   "metadata": {},
   "outputs": [],
   "source": [
    "# Convert 'created_at' and 'actual_delivery_time' to datetime format, handling errors\n",
    "data['created_at'] = pd.to_datetime(data['created_at'], errors='coerce', utc=True)\n",
    "data['actual_delivery_time'] = pd.to_datetime(data['actual_delivery_time'], errors='coerce', utc=True)"
   ]
  },
  {
   "cell_type": "code",
   "execution_count": 4,
   "metadata": {},
   "outputs": [],
   "source": [
    "# Ensure only numeric columns are used as features\n",
    "X = data.select_dtypes(include=[np.number]).drop(columns=['total_delivery_duration'])\n",
    "y = data['total_delivery_duration']\n",
    "\n",
    "# Handle infinite values, if any, in the feature set\n",
    "X.replace([np.inf, -np.inf], np.nan, inplace=True)"
   ]
  },
  {
   "cell_type": "markdown",
   "metadata": {},
   "source": [
    "### Handling Missing Values:\n",
    "We specifically handle missing values in min_item_price and estimated_store_to_consumer_driving_duration, using the median, to ensure no NaN values are present."
   ]
  },
  {
   "cell_type": "code",
   "execution_count": 5,
   "metadata": {},
   "outputs": [
    {
     "name": "stderr",
     "output_type": "stream",
     "text": [
      "/var/folders/j1/pdsb5w0x52sgplylm6f7fmgm0000gn/T/ipykernel_51220/3172428726.py:2: FutureWarning: A value is trying to be set on a copy of a DataFrame or Series through chained assignment using an inplace method.\n",
      "The behavior will change in pandas 3.0. This inplace method will never work because the intermediate object on which we are setting values always behaves as a copy.\n",
      "\n",
      "For example, when doing 'df[col].method(value, inplace=True)', try using 'df.method({col: value}, inplace=True)' or df[col] = df[col].method(value) instead, to perform the operation inplace on the original object.\n",
      "\n",
      "\n",
      "  X['min_item_price'].fillna(X['min_item_price'].median(), inplace=True)\n",
      "/var/folders/j1/pdsb5w0x52sgplylm6f7fmgm0000gn/T/ipykernel_51220/3172428726.py:3: FutureWarning: A value is trying to be set on a copy of a DataFrame or Series through chained assignment using an inplace method.\n",
      "The behavior will change in pandas 3.0. This inplace method will never work because the intermediate object on which we are setting values always behaves as a copy.\n",
      "\n",
      "For example, when doing 'df[col].method(value, inplace=True)', try using 'df.method({col: value}, inplace=True)' or df[col] = df[col].method(value) instead, to perform the operation inplace on the original object.\n",
      "\n",
      "\n",
      "  X['estimated_store_to_consumer_driving_duration'].fillna(\n"
     ]
    }
   ],
   "source": [
    "# Handle missing values (if any remain after preprocessing)\n",
    "X['min_item_price'].fillna(X['min_item_price'].median(), inplace=True)\n",
    "X['estimated_store_to_consumer_driving_duration'].fillna(\n",
    "    X['estimated_store_to_consumer_driving_duration'].median(), inplace=True\n",
    ")"
   ]
  },
  {
   "cell_type": "markdown",
   "metadata": {},
   "source": [
    "### Feature Scaling:\n",
    "We use StandardScaler to scale features to a standard normal distribution. Scaling is essential for neural networks as it helps improve convergence."
   ]
  },
  {
   "cell_type": "code",
   "execution_count": 6,
   "metadata": {},
   "outputs": [],
   "source": [
    "# Scale features\n",
    "scaler = StandardScaler()\n",
    "X_scaled = scaler.fit_transform(X)"
   ]
  },
  {
   "cell_type": "code",
   "execution_count": 7,
   "metadata": {},
   "outputs": [],
   "source": [
    "# Train/test split\n",
    "X_train, X_test, y_train, y_test = train_test_split(X_scaled, y, test_size=0.2, random_state=42)"
   ]
  },
  {
   "cell_type": "markdown",
   "metadata": {},
   "source": [
    "### Neural Network Architecture:\n",
    "- Layer 1: Dense layer with 128 neurons and ReLU activation, followed by batch normalization and dropout for regularization.\n",
    "- Layer 2: Dense layer with 64 neurons, batch normalization, and dropout.\n",
    "- Layer 3: Dense layer with 32 neurons.\n",
    "- Output Layer: Single neuron (linear activation) for regression to predict total_delivery_duration.\n",
    "\n",
    "Batch Normalization is added after the dense layers to stabilize training and help the model converge faster.\n",
    "\n",
    "Dropout Layers are used to prevent overfitting by randomly dropping a fraction of neurons during each training step."
   ]
  },
  {
   "cell_type": "code",
   "execution_count": 8,
   "metadata": {},
   "outputs": [
    {
     "name": "stderr",
     "output_type": "stream",
     "text": [
      "/Users/diegovelez/Documents/Documents - Ifrit/03 RESOURCES/Courses/Henry/Delivery Duration Prediction - DoorDash/env/lib/python3.11/site-packages/keras/src/layers/core/dense.py:87: UserWarning: Do not pass an `input_shape`/`input_dim` argument to a layer. When using Sequential models, prefer using an `Input(shape)` object as the first layer in the model instead.\n",
      "  super().__init__(activity_regularizer=activity_regularizer, **kwargs)\n"
     ]
    }
   ],
   "source": [
    "# Define the neural network model\n",
    "model = Sequential([\n",
    "    Dense(128, input_dim=X_train.shape[1], activation='relu'),\n",
    "    BatchNormalization(),\n",
    "    Dropout(0.3),\n",
    "    Dense(64, activation='relu'),\n",
    "    BatchNormalization(),\n",
    "    Dropout(0.3),\n",
    "    Dense(32, activation='relu'),\n",
    "    Dense(1)  # Output layer for regression\n",
    "])\n",
    "\n",
    "# Compile the model\n",
    "model.compile(optimizer='adam', loss='mean_squared_error', metrics=['mean_absolute_error'])"
   ]
  },
  {
   "cell_type": "markdown",
   "metadata": {},
   "source": [
    "### Early Stopping:\n",
    "We use EarlyStopping with patience=10 to prevent overfitting by stopping the training when the validation loss stops improving."
   ]
  },
  {
   "cell_type": "code",
   "execution_count": 9,
   "metadata": {},
   "outputs": [],
   "source": [
    "# Early stopping callback\n",
    "early_stop = EarlyStopping(monitor='val_loss', patience=10, restore_best_weights=True)"
   ]
  },
  {
   "cell_type": "code",
   "execution_count": 10,
   "metadata": {},
   "outputs": [
    {
     "name": "stdout",
     "output_type": "stream",
     "text": [
      "Epoch 1/100\n",
      "\u001b[1m4936/4936\u001b[0m \u001b[32m━━━━━━━━━━━━━━━━━━━━\u001b[0m\u001b[37m\u001b[0m \u001b[1m5s\u001b[0m 736us/step - loss: 3468355.0000 - mean_absolute_error: 1451.7192 - val_loss: 682255.7500 - val_mean_absolute_error: 640.7743\n",
      "Epoch 2/100\n",
      "\u001b[1m4936/4936\u001b[0m \u001b[32m━━━━━━━━━━━━━━━━━━━━\u001b[0m\u001b[37m\u001b[0m \u001b[1m4s\u001b[0m 789us/step - loss: 784281.0625 - mean_absolute_error: 689.9312 - val_loss: 668545.2500 - val_mean_absolute_error: 633.6065\n",
      "Epoch 3/100\n",
      "\u001b[1m4936/4936\u001b[0m \u001b[32m━━━━━━━━━━━━━━━━━━━━\u001b[0m\u001b[37m\u001b[0m \u001b[1m4s\u001b[0m 725us/step - loss: 781802.6250 - mean_absolute_error: 687.4222 - val_loss: 663004.8750 - val_mean_absolute_error: 633.5276\n",
      "Epoch 4/100\n",
      "\u001b[1m4936/4936\u001b[0m \u001b[32m━━━━━━━━━━━━━━━━━━━━\u001b[0m\u001b[37m\u001b[0m \u001b[1m4s\u001b[0m 764us/step - loss: 762611.7500 - mean_absolute_error: 679.5967 - val_loss: 658995.4375 - val_mean_absolute_error: 630.7128\n",
      "Epoch 5/100\n",
      "\u001b[1m4936/4936\u001b[0m \u001b[32m━━━━━━━━━━━━━━━━━━━━\u001b[0m\u001b[37m\u001b[0m \u001b[1m4s\u001b[0m 753us/step - loss: 760347.3125 - mean_absolute_error: 678.6139 - val_loss: 660012.7500 - val_mean_absolute_error: 628.9672\n",
      "Epoch 6/100\n",
      "\u001b[1m4936/4936\u001b[0m \u001b[32m━━━━━━━━━━━━━━━━━━━━\u001b[0m\u001b[37m\u001b[0m \u001b[1m4s\u001b[0m 735us/step - loss: 750262.6250 - mean_absolute_error: 675.4520 - val_loss: 658678.3125 - val_mean_absolute_error: 629.8208\n",
      "Epoch 7/100\n",
      "\u001b[1m4936/4936\u001b[0m \u001b[32m━━━━━━━━━━━━━━━━━━━━\u001b[0m\u001b[37m\u001b[0m \u001b[1m4s\u001b[0m 792us/step - loss: 742042.9375 - mean_absolute_error: 671.1390 - val_loss: 656511.6250 - val_mean_absolute_error: 627.5523\n",
      "Epoch 8/100\n",
      "\u001b[1m4936/4936\u001b[0m \u001b[32m━━━━━━━━━━━━━━━━━━━━\u001b[0m\u001b[37m\u001b[0m \u001b[1m4s\u001b[0m 717us/step - loss: 741814.7500 - mean_absolute_error: 671.4308 - val_loss: 653721.6250 - val_mean_absolute_error: 630.6480\n",
      "Epoch 9/100\n",
      "\u001b[1m4936/4936\u001b[0m \u001b[32m━━━━━━━━━━━━━━━━━━━━\u001b[0m\u001b[37m\u001b[0m \u001b[1m4s\u001b[0m 788us/step - loss: 737152.3750 - mean_absolute_error: 668.8687 - val_loss: 652625.8750 - val_mean_absolute_error: 625.4234\n",
      "Epoch 10/100\n",
      "\u001b[1m4936/4936\u001b[0m \u001b[32m━━━━━━━━━━━━━━━━━━━━\u001b[0m\u001b[37m\u001b[0m \u001b[1m4s\u001b[0m 781us/step - loss: 734408.0000 - mean_absolute_error: 667.3972 - val_loss: 654419.8750 - val_mean_absolute_error: 624.9992\n",
      "Epoch 11/100\n",
      "\u001b[1m4936/4936\u001b[0m \u001b[32m━━━━━━━━━━━━━━━━━━━━\u001b[0m\u001b[37m\u001b[0m \u001b[1m4s\u001b[0m 746us/step - loss: 733203.8750 - mean_absolute_error: 666.2422 - val_loss: 651978.6250 - val_mean_absolute_error: 624.0397\n",
      "Epoch 12/100\n",
      "\u001b[1m4936/4936\u001b[0m \u001b[32m━━━━━━━━━━━━━━━━━━━━\u001b[0m\u001b[37m\u001b[0m \u001b[1m4s\u001b[0m 746us/step - loss: 734702.0625 - mean_absolute_error: 666.9677 - val_loss: 651169.1875 - val_mean_absolute_error: 627.1498\n",
      "Epoch 13/100\n",
      "\u001b[1m4936/4936\u001b[0m \u001b[32m━━━━━━━━━━━━━━━━━━━━\u001b[0m\u001b[37m\u001b[0m \u001b[1m4s\u001b[0m 779us/step - loss: 725087.1250 - mean_absolute_error: 663.8136 - val_loss: 651693.8750 - val_mean_absolute_error: 626.4057\n",
      "Epoch 14/100\n",
      "\u001b[1m4936/4936\u001b[0m \u001b[32m━━━━━━━━━━━━━━━━━━━━\u001b[0m\u001b[37m\u001b[0m \u001b[1m4s\u001b[0m 745us/step - loss: 718660.5000 - mean_absolute_error: 659.3925 - val_loss: 653894.6875 - val_mean_absolute_error: 624.6129\n",
      "Epoch 15/100\n",
      "\u001b[1m4936/4936\u001b[0m \u001b[32m━━━━━━━━━━━━━━━━━━━━\u001b[0m\u001b[37m\u001b[0m \u001b[1m4s\u001b[0m 759us/step - loss: 724860.5625 - mean_absolute_error: 662.5370 - val_loss: 656165.6250 - val_mean_absolute_error: 631.7147\n",
      "Epoch 16/100\n",
      "\u001b[1m4936/4936\u001b[0m \u001b[32m━━━━━━━━━━━━━━━━━━━━\u001b[0m\u001b[37m\u001b[0m \u001b[1m4s\u001b[0m 798us/step - loss: 718507.7500 - mean_absolute_error: 660.5139 - val_loss: 650893.1250 - val_mean_absolute_error: 623.2154\n",
      "Epoch 17/100\n",
      "\u001b[1m4936/4936\u001b[0m \u001b[32m━━━━━━━━━━━━━━━━━━━━\u001b[0m\u001b[37m\u001b[0m \u001b[1m4s\u001b[0m 767us/step - loss: 712543.1875 - mean_absolute_error: 657.3856 - val_loss: 650365.4375 - val_mean_absolute_error: 630.6677\n",
      "Epoch 18/100\n",
      "\u001b[1m4936/4936\u001b[0m \u001b[32m━━━━━━━━━━━━━━━━━━━━\u001b[0m\u001b[37m\u001b[0m \u001b[1m4s\u001b[0m 743us/step - loss: 710865.0000 - mean_absolute_error: 655.8756 - val_loss: 652609.0625 - val_mean_absolute_error: 629.4955\n",
      "Epoch 19/100\n",
      "\u001b[1m4936/4936\u001b[0m \u001b[32m━━━━━━━━━━━━━━━━━━━━\u001b[0m\u001b[37m\u001b[0m \u001b[1m4s\u001b[0m 783us/step - loss: 715755.8750 - mean_absolute_error: 658.9989 - val_loss: 648689.5625 - val_mean_absolute_error: 627.7056\n",
      "Epoch 20/100\n",
      "\u001b[1m4936/4936\u001b[0m \u001b[32m━━━━━━━━━━━━━━━━━━━━\u001b[0m\u001b[37m\u001b[0m \u001b[1m4s\u001b[0m 759us/step - loss: 710015.5000 - mean_absolute_error: 655.8085 - val_loss: 647833.5000 - val_mean_absolute_error: 625.1512\n",
      "Epoch 21/100\n",
      "\u001b[1m4936/4936\u001b[0m \u001b[32m━━━━━━━━━━━━━━━━━━━━\u001b[0m\u001b[37m\u001b[0m \u001b[1m4s\u001b[0m 757us/step - loss: 711916.7500 - mean_absolute_error: 657.2747 - val_loss: 647064.9375 - val_mean_absolute_error: 624.0939\n",
      "Epoch 22/100\n",
      "\u001b[1m4936/4936\u001b[0m \u001b[32m━━━━━━━━━━━━━━━━━━━━\u001b[0m\u001b[37m\u001b[0m \u001b[1m4s\u001b[0m 793us/step - loss: 708332.4375 - mean_absolute_error: 656.2739 - val_loss: 646044.9375 - val_mean_absolute_error: 625.7451\n",
      "Epoch 23/100\n",
      "\u001b[1m4936/4936\u001b[0m \u001b[32m━━━━━━━━━━━━━━━━━━━━\u001b[0m\u001b[37m\u001b[0m \u001b[1m4s\u001b[0m 752us/step - loss: 705110.1875 - mean_absolute_error: 653.1721 - val_loss: 646256.6875 - val_mean_absolute_error: 626.3842\n",
      "Epoch 24/100\n",
      "\u001b[1m4936/4936\u001b[0m \u001b[32m━━━━━━━━━━━━━━━━━━━━\u001b[0m\u001b[37m\u001b[0m \u001b[1m4s\u001b[0m 769us/step - loss: 707737.5625 - mean_absolute_error: 654.1057 - val_loss: 647410.1250 - val_mean_absolute_error: 625.9796\n",
      "Epoch 25/100\n",
      "\u001b[1m4936/4936\u001b[0m \u001b[32m━━━━━━━━━━━━━━━━━━━━\u001b[0m\u001b[37m\u001b[0m \u001b[1m4s\u001b[0m 786us/step - loss: 699573.2500 - mean_absolute_error: 650.9100 - val_loss: 645913.9375 - val_mean_absolute_error: 622.3152\n",
      "Epoch 26/100\n",
      "\u001b[1m4936/4936\u001b[0m \u001b[32m━━━━━━━━━━━━━━━━━━━━\u001b[0m\u001b[37m\u001b[0m \u001b[1m4s\u001b[0m 730us/step - loss: 699714.6250 - mean_absolute_error: 652.2520 - val_loss: 647426.1875 - val_mean_absolute_error: 623.3882\n",
      "Epoch 27/100\n",
      "\u001b[1m4936/4936\u001b[0m \u001b[32m━━━━━━━━━━━━━━━━━━━━\u001b[0m\u001b[37m\u001b[0m \u001b[1m4s\u001b[0m 795us/step - loss: 698182.0000 - mean_absolute_error: 651.3065 - val_loss: 650597.8750 - val_mean_absolute_error: 619.8533\n",
      "Epoch 28/100\n",
      "\u001b[1m4936/4936\u001b[0m \u001b[32m━━━━━━━━━━━━━━━━━━━━\u001b[0m\u001b[37m\u001b[0m \u001b[1m4s\u001b[0m 807us/step - loss: 689195.5000 - mean_absolute_error: 646.4670 - val_loss: 647552.0000 - val_mean_absolute_error: 622.8153\n",
      "Epoch 29/100\n",
      "\u001b[1m4936/4936\u001b[0m \u001b[32m━━━━━━━━━━━━━━━━━━━━\u001b[0m\u001b[37m\u001b[0m \u001b[1m4s\u001b[0m 739us/step - loss: 692803.4375 - mean_absolute_error: 648.6160 - val_loss: 646384.8125 - val_mean_absolute_error: 624.7827\n",
      "Epoch 30/100\n",
      "\u001b[1m4936/4936\u001b[0m \u001b[32m━━━━━━━━━━━━━━━━━━━━\u001b[0m\u001b[37m\u001b[0m \u001b[1m4s\u001b[0m 807us/step - loss: 693222.3125 - mean_absolute_error: 649.0950 - val_loss: 645957.1250 - val_mean_absolute_error: 622.7746\n",
      "Epoch 31/100\n",
      "\u001b[1m4936/4936\u001b[0m \u001b[32m━━━━━━━━━━━━━━━━━━━━\u001b[0m\u001b[37m\u001b[0m \u001b[1m4s\u001b[0m 792us/step - loss: 689940.0000 - mean_absolute_error: 646.8055 - val_loss: 649837.1250 - val_mean_absolute_error: 621.8259\n",
      "Epoch 32/100\n",
      "\u001b[1m4936/4936\u001b[0m \u001b[32m━━━━━━━━━━━━━━━━━━━━\u001b[0m\u001b[37m\u001b[0m \u001b[1m4s\u001b[0m 735us/step - loss: 691335.5000 - mean_absolute_error: 646.8886 - val_loss: 645383.8750 - val_mean_absolute_error: 623.1357\n",
      "Epoch 33/100\n",
      "\u001b[1m4936/4936\u001b[0m \u001b[32m━━━━━━━━━━━━━━━━━━━━\u001b[0m\u001b[37m\u001b[0m \u001b[1m4s\u001b[0m 783us/step - loss: 687434.1250 - mean_absolute_error: 645.4068 - val_loss: 645468.3750 - val_mean_absolute_error: 626.2889\n",
      "Epoch 34/100\n",
      "\u001b[1m4936/4936\u001b[0m \u001b[32m━━━━━━━━━━━━━━━━━━━━\u001b[0m\u001b[37m\u001b[0m \u001b[1m4s\u001b[0m 800us/step - loss: 683435.2500 - mean_absolute_error: 643.7634 - val_loss: 649810.3750 - val_mean_absolute_error: 633.1319\n",
      "Epoch 35/100\n",
      "\u001b[1m4936/4936\u001b[0m \u001b[32m━━━━━━━━━━━━━━━━━━━━\u001b[0m\u001b[37m\u001b[0m \u001b[1m4s\u001b[0m 735us/step - loss: 680951.8125 - mean_absolute_error: 643.3279 - val_loss: 646687.1250 - val_mean_absolute_error: 622.7139\n",
      "Epoch 36/100\n",
      "\u001b[1m4936/4936\u001b[0m \u001b[32m━━━━━━━━━━━━━━━━━━━━\u001b[0m\u001b[37m\u001b[0m \u001b[1m4s\u001b[0m 776us/step - loss: 678915.1875 - mean_absolute_error: 641.3936 - val_loss: 645188.3125 - val_mean_absolute_error: 624.5652\n",
      "Epoch 37/100\n",
      "\u001b[1m4936/4936\u001b[0m \u001b[32m━━━━━━━━━━━━━━━━━━━━\u001b[0m\u001b[37m\u001b[0m \u001b[1m4s\u001b[0m 752us/step - loss: 685526.8750 - mean_absolute_error: 644.3506 - val_loss: 642670.0000 - val_mean_absolute_error: 619.5026\n",
      "Epoch 38/100\n",
      "\u001b[1m4936/4936\u001b[0m \u001b[32m━━━━━━━━━━━━━━━━━━━━\u001b[0m\u001b[37m\u001b[0m \u001b[1m4s\u001b[0m 827us/step - loss: 677688.8125 - mean_absolute_error: 640.3031 - val_loss: 640289.1250 - val_mean_absolute_error: 621.7265\n",
      "Epoch 39/100\n",
      "\u001b[1m4936/4936\u001b[0m \u001b[32m━━━━━━━━━━━━━━━━━━━━\u001b[0m\u001b[37m\u001b[0m \u001b[1m4s\u001b[0m 725us/step - loss: 676575.3750 - mean_absolute_error: 640.5723 - val_loss: 641338.0000 - val_mean_absolute_error: 622.0605\n",
      "Epoch 40/100\n",
      "\u001b[1m4936/4936\u001b[0m \u001b[32m━━━━━━━━━━━━━━━━━━━━\u001b[0m\u001b[37m\u001b[0m \u001b[1m4s\u001b[0m 819us/step - loss: 674888.0000 - mean_absolute_error: 640.3900 - val_loss: 644206.3750 - val_mean_absolute_error: 623.7544\n",
      "Epoch 41/100\n",
      "\u001b[1m4936/4936\u001b[0m \u001b[32m━━━━━━━━━━━━━━━━━━━━\u001b[0m\u001b[37m\u001b[0m \u001b[1m4s\u001b[0m 821us/step - loss: 672571.6250 - mean_absolute_error: 638.4216 - val_loss: 642922.5000 - val_mean_absolute_error: 622.6213\n",
      "Epoch 42/100\n",
      "\u001b[1m4936/4936\u001b[0m \u001b[32m━━━━━━━━━━━━━━━━━━━━\u001b[0m\u001b[37m\u001b[0m \u001b[1m4s\u001b[0m 728us/step - loss: 672572.3125 - mean_absolute_error: 638.6998 - val_loss: 642861.6875 - val_mean_absolute_error: 620.9319\n",
      "Epoch 43/100\n",
      "\u001b[1m4936/4936\u001b[0m \u001b[32m━━━━━━━━━━━━━━━━━━━━\u001b[0m\u001b[37m\u001b[0m \u001b[1m4s\u001b[0m 790us/step - loss: 669728.5000 - mean_absolute_error: 636.7985 - val_loss: 640983.2500 - val_mean_absolute_error: 618.5190\n",
      "Epoch 44/100\n",
      "\u001b[1m4936/4936\u001b[0m \u001b[32m━━━━━━━━━━━━━━━━━━━━\u001b[0m\u001b[37m\u001b[0m \u001b[1m4s\u001b[0m 784us/step - loss: 659683.5625 - mean_absolute_error: 632.9730 - val_loss: 638693.0625 - val_mean_absolute_error: 617.9425\n",
      "Epoch 45/100\n",
      "\u001b[1m4936/4936\u001b[0m \u001b[32m━━━━━━━━━━━━━━━━━━━━\u001b[0m\u001b[37m\u001b[0m \u001b[1m4s\u001b[0m 734us/step - loss: 665370.2500 - mean_absolute_error: 636.2040 - val_loss: 637122.7500 - val_mean_absolute_error: 624.7715\n",
      "Epoch 46/100\n",
      "\u001b[1m4936/4936\u001b[0m \u001b[32m━━━━━━━━━━━━━━━━━━━━\u001b[0m\u001b[37m\u001b[0m \u001b[1m4s\u001b[0m 758us/step - loss: 667053.2500 - mean_absolute_error: 636.8021 - val_loss: 638381.6875 - val_mean_absolute_error: 623.7899\n",
      "Epoch 47/100\n",
      "\u001b[1m4936/4936\u001b[0m \u001b[32m━━━━━━━━━━━━━━━━━━━━\u001b[0m\u001b[37m\u001b[0m \u001b[1m4s\u001b[0m 785us/step - loss: 660522.0000 - mean_absolute_error: 633.0665 - val_loss: 637533.5000 - val_mean_absolute_error: 620.0199\n",
      "Epoch 48/100\n",
      "\u001b[1m4936/4936\u001b[0m \u001b[32m━━━━━━━━━━━━━━━━━━━━\u001b[0m\u001b[37m\u001b[0m \u001b[1m4s\u001b[0m 730us/step - loss: 664529.7500 - mean_absolute_error: 633.9918 - val_loss: 638574.3750 - val_mean_absolute_error: 626.3380\n",
      "Epoch 49/100\n",
      "\u001b[1m4936/4936\u001b[0m \u001b[32m━━━━━━━━━━━━━━━━━━━━\u001b[0m\u001b[37m\u001b[0m \u001b[1m4s\u001b[0m 760us/step - loss: 665413.4375 - mean_absolute_error: 635.6382 - val_loss: 636184.2500 - val_mean_absolute_error: 620.7509\n",
      "Epoch 50/100\n",
      "\u001b[1m4936/4936\u001b[0m \u001b[32m━━━━━━━━━━━━━━━━━━━━\u001b[0m\u001b[37m\u001b[0m \u001b[1m4s\u001b[0m 787us/step - loss: 662199.5000 - mean_absolute_error: 633.1006 - val_loss: 638717.9375 - val_mean_absolute_error: 619.4360\n",
      "Epoch 51/100\n",
      "\u001b[1m4936/4936\u001b[0m \u001b[32m━━━━━━━━━━━━━━━━━━━━\u001b[0m\u001b[37m\u001b[0m \u001b[1m4s\u001b[0m 748us/step - loss: 662552.0625 - mean_absolute_error: 633.1425 - val_loss: 636053.0625 - val_mean_absolute_error: 619.7221\n",
      "Epoch 52/100\n",
      "\u001b[1m4936/4936\u001b[0m \u001b[32m━━━━━━━━━━━━━━━━━━━━\u001b[0m\u001b[37m\u001b[0m \u001b[1m4s\u001b[0m 779us/step - loss: 668238.0000 - mean_absolute_error: 637.3139 - val_loss: 634973.0625 - val_mean_absolute_error: 621.3428\n",
      "Epoch 53/100\n",
      "\u001b[1m4936/4936\u001b[0m \u001b[32m━━━━━━━━━━━━━━━━━━━━\u001b[0m\u001b[37m\u001b[0m \u001b[1m4s\u001b[0m 755us/step - loss: 660836.5000 - mean_absolute_error: 633.2836 - val_loss: 637204.0625 - val_mean_absolute_error: 619.1096\n",
      "Epoch 54/100\n",
      "\u001b[1m4936/4936\u001b[0m \u001b[32m━━━━━━━━━━━━━━━━━━━━\u001b[0m\u001b[37m\u001b[0m \u001b[1m4s\u001b[0m 758us/step - loss: 665303.3125 - mean_absolute_error: 635.9872 - val_loss: 634807.1875 - val_mean_absolute_error: 616.5662\n",
      "Epoch 55/100\n",
      "\u001b[1m4936/4936\u001b[0m \u001b[32m━━━━━━━━━━━━━━━━━━━━\u001b[0m\u001b[37m\u001b[0m \u001b[1m4s\u001b[0m 779us/step - loss: 656920.2500 - mean_absolute_error: 631.6545 - val_loss: 635789.6875 - val_mean_absolute_error: 619.5313\n",
      "Epoch 56/100\n",
      "\u001b[1m4936/4936\u001b[0m \u001b[32m━━━━━━━━━━━━━━━━━━━━\u001b[0m\u001b[37m\u001b[0m \u001b[1m4s\u001b[0m 749us/step - loss: 662072.8125 - mean_absolute_error: 634.7746 - val_loss: 638769.8125 - val_mean_absolute_error: 622.8038\n",
      "Epoch 57/100\n",
      "\u001b[1m4936/4936\u001b[0m \u001b[32m━━━━━━━━━━━━━━━━━━━━\u001b[0m\u001b[37m\u001b[0m \u001b[1m4s\u001b[0m 767us/step - loss: 659499.0000 - mean_absolute_error: 633.3824 - val_loss: 636363.8125 - val_mean_absolute_error: 619.0983\n",
      "Epoch 58/100\n",
      "\u001b[1m4936/4936\u001b[0m \u001b[32m━━━━━━━━━━━━━━━━━━━━\u001b[0m\u001b[37m\u001b[0m \u001b[1m4s\u001b[0m 749us/step - loss: 656297.5625 - mean_absolute_error: 631.9039 - val_loss: 638146.8125 - val_mean_absolute_error: 627.8280\n",
      "Epoch 59/100\n",
      "\u001b[1m4936/4936\u001b[0m \u001b[32m━━━━━━━━━━━━━━━━━━━━\u001b[0m\u001b[37m\u001b[0m \u001b[1m4s\u001b[0m 784us/step - loss: 663707.8750 - mean_absolute_error: 636.1522 - val_loss: 633943.8750 - val_mean_absolute_error: 619.2867\n",
      "Epoch 60/100\n",
      "\u001b[1m4936/4936\u001b[0m \u001b[32m━━━━━━━━━━━━━━━━━━━━\u001b[0m\u001b[37m\u001b[0m \u001b[1m4s\u001b[0m 754us/step - loss: 661744.5000 - mean_absolute_error: 634.0430 - val_loss: 636735.3125 - val_mean_absolute_error: 617.6836\n",
      "Epoch 61/100\n",
      "\u001b[1m4936/4936\u001b[0m \u001b[32m━━━━━━━━━━━━━━━━━━━━\u001b[0m\u001b[37m\u001b[0m \u001b[1m4s\u001b[0m 799us/step - loss: 656588.5000 - mean_absolute_error: 631.2830 - val_loss: 633975.8750 - val_mean_absolute_error: 621.3896\n",
      "Epoch 62/100\n",
      "\u001b[1m4936/4936\u001b[0m \u001b[32m━━━━━━━━━━━━━━━━━━━━\u001b[0m\u001b[37m\u001b[0m \u001b[1m4s\u001b[0m 734us/step - loss: 660890.1875 - mean_absolute_error: 634.3753 - val_loss: 636611.0625 - val_mean_absolute_error: 619.3771\n",
      "Epoch 63/100\n",
      "\u001b[1m4936/4936\u001b[0m \u001b[32m━━━━━━━━━━━━━━━━━━━━\u001b[0m\u001b[37m\u001b[0m \u001b[1m4s\u001b[0m 789us/step - loss: 658340.4375 - mean_absolute_error: 633.5585 - val_loss: 632580.6250 - val_mean_absolute_error: 619.8119\n",
      "Epoch 64/100\n",
      "\u001b[1m4936/4936\u001b[0m \u001b[32m━━━━━━━━━━━━━━━━━━━━\u001b[0m\u001b[37m\u001b[0m \u001b[1m4s\u001b[0m 781us/step - loss: 657738.0625 - mean_absolute_error: 632.4633 - val_loss: 634737.1250 - val_mean_absolute_error: 622.2558\n",
      "Epoch 65/100\n",
      "\u001b[1m4936/4936\u001b[0m \u001b[32m━━━━━━━━━━━━━━━━━━━━\u001b[0m\u001b[37m\u001b[0m \u001b[1m4s\u001b[0m 752us/step - loss: 658757.6875 - mean_absolute_error: 633.2199 - val_loss: 634204.5000 - val_mean_absolute_error: 619.6807\n",
      "Epoch 66/100\n",
      "\u001b[1m4936/4936\u001b[0m \u001b[32m━━━━━━━━━━━━━━━━━━━━\u001b[0m\u001b[37m\u001b[0m \u001b[1m4s\u001b[0m 793us/step - loss: 655618.0000 - mean_absolute_error: 631.6592 - val_loss: 633940.0625 - val_mean_absolute_error: 618.2865\n",
      "Epoch 67/100\n",
      "\u001b[1m4936/4936\u001b[0m \u001b[32m━━━━━━━━━━━━━━━━━━━━\u001b[0m\u001b[37m\u001b[0m \u001b[1m4s\u001b[0m 742us/step - loss: 654338.0625 - mean_absolute_error: 630.9481 - val_loss: 633177.7500 - val_mean_absolute_error: 620.1646\n",
      "Epoch 68/100\n",
      "\u001b[1m4936/4936\u001b[0m \u001b[32m━━━━━━━━━━━━━━━━━━━━\u001b[0m\u001b[37m\u001b[0m \u001b[1m4s\u001b[0m 789us/step - loss: 654669.5625 - mean_absolute_error: 630.8777 - val_loss: 635192.0000 - val_mean_absolute_error: 621.1280\n",
      "Epoch 69/100\n",
      "\u001b[1m4936/4936\u001b[0m \u001b[32m━━━━━━━━━━━━━━━━━━━━\u001b[0m\u001b[37m\u001b[0m \u001b[1m4s\u001b[0m 795us/step - loss: 657443.7500 - mean_absolute_error: 633.3189 - val_loss: 629852.0625 - val_mean_absolute_error: 618.3358\n",
      "Epoch 70/100\n",
      "\u001b[1m4936/4936\u001b[0m \u001b[32m━━━━━━━━━━━━━━━━━━━━\u001b[0m\u001b[37m\u001b[0m \u001b[1m4s\u001b[0m 761us/step - loss: 652866.6250 - mean_absolute_error: 630.5724 - val_loss: 637744.6875 - val_mean_absolute_error: 622.1623\n",
      "Epoch 71/100\n",
      "\u001b[1m4936/4936\u001b[0m \u001b[32m━━━━━━━━━━━━━━━━━━━━\u001b[0m\u001b[37m\u001b[0m \u001b[1m4s\u001b[0m 807us/step - loss: 654743.3125 - mean_absolute_error: 631.0214 - val_loss: 634488.6875 - val_mean_absolute_error: 619.1417\n",
      "Epoch 72/100\n",
      "\u001b[1m4936/4936\u001b[0m \u001b[32m━━━━━━━━━━━━━━━━━━━━\u001b[0m\u001b[37m\u001b[0m \u001b[1m4s\u001b[0m 774us/step - loss: 655127.1875 - mean_absolute_error: 630.4727 - val_loss: 632700.2500 - val_mean_absolute_error: 619.8557\n",
      "Epoch 73/100\n",
      "\u001b[1m4936/4936\u001b[0m \u001b[32m━━━━━━━━━━━━━━━━━━━━\u001b[0m\u001b[37m\u001b[0m \u001b[1m4s\u001b[0m 764us/step - loss: 652324.5625 - mean_absolute_error: 629.6375 - val_loss: 633067.8125 - val_mean_absolute_error: 619.4407\n",
      "Epoch 74/100\n",
      "\u001b[1m4936/4936\u001b[0m \u001b[32m━━━━━━━━━━━━━━━━━━━━\u001b[0m\u001b[37m\u001b[0m \u001b[1m4s\u001b[0m 813us/step - loss: 654122.9375 - mean_absolute_error: 630.2778 - val_loss: 631448.9375 - val_mean_absolute_error: 620.2506\n",
      "Epoch 75/100\n",
      "\u001b[1m4936/4936\u001b[0m \u001b[32m━━━━━━━━━━━━━━━━━━━━\u001b[0m\u001b[37m\u001b[0m \u001b[1m4s\u001b[0m 774us/step - loss: 657061.5625 - mean_absolute_error: 631.6738 - val_loss: 630462.2500 - val_mean_absolute_error: 617.1352\n",
      "Epoch 76/100\n",
      "\u001b[1m4936/4936\u001b[0m \u001b[32m━━━━━━━━━━━━━━━━━━━━\u001b[0m\u001b[37m\u001b[0m \u001b[1m4s\u001b[0m 776us/step - loss: 657786.7500 - mean_absolute_error: 633.1733 - val_loss: 628677.3125 - val_mean_absolute_error: 616.5650\n",
      "Epoch 77/100\n",
      "\u001b[1m4936/4936\u001b[0m \u001b[32m━━━━━━━━━━━━━━━━━━━━\u001b[0m\u001b[37m\u001b[0m \u001b[1m4s\u001b[0m 803us/step - loss: 656000.1875 - mean_absolute_error: 631.6125 - val_loss: 631944.5000 - val_mean_absolute_error: 616.4623\n",
      "Epoch 78/100\n",
      "\u001b[1m4936/4936\u001b[0m \u001b[32m━━━━━━━━━━━━━━━━━━━━\u001b[0m\u001b[37m\u001b[0m \u001b[1m4s\u001b[0m 731us/step - loss: 655410.9375 - mean_absolute_error: 632.5733 - val_loss: 635503.1875 - val_mean_absolute_error: 618.6113\n",
      "Epoch 79/100\n",
      "\u001b[1m4936/4936\u001b[0m \u001b[32m━━━━━━━━━━━━━━━━━━━━\u001b[0m\u001b[37m\u001b[0m \u001b[1m4s\u001b[0m 796us/step - loss: 656989.5000 - mean_absolute_error: 631.4500 - val_loss: 633809.6875 - val_mean_absolute_error: 620.0994\n",
      "Epoch 80/100\n",
      "\u001b[1m4936/4936\u001b[0m \u001b[32m━━━━━━━━━━━━━━━━━━━━\u001b[0m\u001b[37m\u001b[0m \u001b[1m4s\u001b[0m 809us/step - loss: 649521.3750 - mean_absolute_error: 626.9059 - val_loss: 634161.1875 - val_mean_absolute_error: 616.7123\n",
      "Epoch 81/100\n",
      "\u001b[1m4936/4936\u001b[0m \u001b[32m━━━━━━━━━━━━━━━━━━━━\u001b[0m\u001b[37m\u001b[0m \u001b[1m4s\u001b[0m 742us/step - loss: 648078.3125 - mean_absolute_error: 627.7038 - val_loss: 631933.6875 - val_mean_absolute_error: 617.2255\n",
      "Epoch 82/100\n",
      "\u001b[1m4936/4936\u001b[0m \u001b[32m━━━━━━━━━━━━━━━━━━━━\u001b[0m\u001b[37m\u001b[0m \u001b[1m4s\u001b[0m 792us/step - loss: 654675.8125 - mean_absolute_error: 631.0412 - val_loss: 632056.5000 - val_mean_absolute_error: 617.5275\n",
      "Epoch 83/100\n",
      "\u001b[1m4936/4936\u001b[0m \u001b[32m━━━━━━━━━━━━━━━━━━━━\u001b[0m\u001b[37m\u001b[0m \u001b[1m4s\u001b[0m 796us/step - loss: 650726.3125 - mean_absolute_error: 628.2308 - val_loss: 632153.1250 - val_mean_absolute_error: 614.3691\n",
      "Epoch 84/100\n",
      "\u001b[1m4936/4936\u001b[0m \u001b[32m━━━━━━━━━━━━━━━━━━━━\u001b[0m\u001b[37m\u001b[0m \u001b[1m4s\u001b[0m 735us/step - loss: 650639.0625 - mean_absolute_error: 628.8726 - val_loss: 631395.5625 - val_mean_absolute_error: 616.8206\n",
      "Epoch 85/100\n",
      "\u001b[1m4936/4936\u001b[0m \u001b[32m━━━━━━━━━━━━━━━━━━━━\u001b[0m\u001b[37m\u001b[0m \u001b[1m4s\u001b[0m 795us/step - loss: 656529.7500 - mean_absolute_error: 631.7638 - val_loss: 631759.5000 - val_mean_absolute_error: 616.1667\n",
      "Epoch 86/100\n",
      "\u001b[1m4936/4936\u001b[0m \u001b[32m━━━━━━━━━━━━━━━━━━━━\u001b[0m\u001b[37m\u001b[0m \u001b[1m4s\u001b[0m 738us/step - loss: 652856.7500 - mean_absolute_error: 630.2330 - val_loss: 630936.0625 - val_mean_absolute_error: 620.8315\n",
      "\u001b[1m1234/1234\u001b[0m \u001b[32m━━━━━━━━━━━━━━━━━━━━\u001b[0m\u001b[37m\u001b[0m \u001b[1m1s\u001b[0m 525us/step - loss: 626937.0000 - mean_absolute_error: 614.8951\n",
      "Deep Learning MAE: 616.5650024414062\n"
     ]
    }
   ],
   "source": [
    "# Train the model\n",
    "history = model.fit(X_train, y_train, epochs=100, batch_size=32, validation_data=(X_test, y_test), callbacks=[early_stop])\n",
    "\n",
    "# Evaluate the model\n",
    "loss, mae = model.evaluate(X_test, y_test)\n",
    "print(f'Deep Learning MAE: {mae}')"
   ]
  },
  {
   "cell_type": "markdown",
   "metadata": {},
   "source": [
    "### Plotting Training and Validation Loss:\n",
    "- After training, we plot the training and validation loss to visualize model convergence and check for overfitting or underfitting."
   ]
  },
  {
   "cell_type": "code",
   "execution_count": 11,
   "metadata": {},
   "outputs": [
    {
     "data": {
      "image/png": "[encoded data removed]",
      "text/plain": [
       "<Figure size 1000x600 with 1 Axes>"
      ]
     },
     "metadata": {},
     "output_type": "display_data"
    }
   ],
   "source": [
    "plt.figure(figsize=(10, 6))\n",
    "plt.plot(history.history['loss'], label='Training Loss')\n",
    "plt.plot(history.history['val_loss'], label='Validation Loss')\n",
    "plt.xlabel('Epochs')\n",
    "plt.ylabel('Mean Squared Error')\n",
    "plt.title('Training and Validation Loss')\n",
    "plt.legend()\n",
    "plt.show()"
   ]
  },
  {
   "cell_type": "markdown",
   "metadata": {},
   "source": [
    "Comments:\n",
    "\n",
    "1. Steep Initial Drop in Training Loss:\n",
    "- In the early epochs, there’s a sharp decline in the training loss, indicating that the model is quickly learning patterns from the data. This is typical in neural network training and shows that the model is converging well initially.\n",
    "\t\n",
    "2. Validation Loss Stability:\n",
    "- The validation loss stabilizes fairly quickly and remains relatively flat throughout the training process. This suggests that the model is not overfitting and is maintaining generalizability on unseen data.\n",
    "\n",
    "- The validation loss is consistently lower than the training loss, which is unusual but can happen. This might be due to regularization techniques (like dropout) or certain patterns in the validation set that are easier for the model to predict.\n",
    "\n",
    "3. Training Loss Plateau:\n",
    "- After about 40 epochs, the training loss reaches a plateau with minimal improvement. This implies that the model has captured most of the learnable patterns in the training data, and further epochs are contributing little additional learning.\n",
    "\n",
    "Overall, this graph suggests that the model is performing well and is not overfitting. The training process is stable, and the loss values indicate a good level of generalization.\n"
   ]
  },
  {
   "cell_type": "markdown",
   "metadata": {},
   "source": [
    "### Improved Deep Learning Model"
   ]
  },
  {
   "cell_type": "code",
   "execution_count": 13,
   "metadata": {},
   "outputs": [],
   "source": [
    "# Load preprocessed data\n",
    "data = pd.read_csv(\"../data/processed/processed_data.csv\")"
   ]
  },
  {
   "cell_type": "code",
   "execution_count": 15,
   "metadata": {},
   "outputs": [],
   "source": [
    "# Check if 'busy_dashers_per_order' and 'workload_ratio' exist, if not, create them\n",
    "if 'busy_dashers_per_order' not in data.columns:\n",
    "    data['busy_dashers_per_order'] = data['total_busy_dashers'] / (data['total_outstanding_orders'] + 1)\n",
    "if 'workload_ratio' not in data.columns:\n",
    "    data['workload_ratio'] = data['total_outstanding_orders'] / (data['total_onshift_dashers'] + 1)"
   ]
  },
  {
   "cell_type": "code",
   "execution_count": 16,
   "metadata": {},
   "outputs": [],
   "source": [
    "# Select the most important features based on XGBoost analysis\n",
    "selected_features = [\n",
    "    'total_delivery_duration_is_outlier', 'subtotal_is_outlier', 'workload_metric',\n",
    "    'estimated_order_place_duration', 'hour_of_day', 'order_protocol_6.0',\n",
    "    'num_distinct_items_is_outlier', 'estimated_store_to_consumer_driving_duration',\n",
    "    'market_id_freq', 'store_primary_category_pizza', 'order_protocol_4.0',\n",
    "    'store_primary_category_salad', 'store_primary_category_dessert',\n",
    "    'busy_dashers_per_order', 'workload_ratio', 'store_primary_category_fast',\n",
    "    'order_protocol_5.0', 'store_primary_category_bubble-tea', 'total_items_is_outlier',\n",
    "    'store_primary_category_brazilian'\n",
    "]\n",
    "\n",
    "X = data[selected_features]\n",
    "y = data['total_delivery_duration']"
   ]
  },
  {
   "cell_type": "code",
   "execution_count": 18,
   "metadata": {},
   "outputs": [],
   "source": [
    "# Specific handling for columns with inf/-inf values\n",
    "# Replace inf and -inf with NaN\n",
    "data[['min_item_price', 'busy_dashers_per_order', 'workload_ratio']] = data[['min_item_price', 'busy_dashers_per_order', 'workload_ratio']].replace([np.inf, -np.inf], np.nan)\n",
    "\n",
    "# Fill NaN values with the median for each feature\n",
    "for feature in ['min_item_price', 'busy_dashers_per_order', 'workload_ratio']:\n",
    "    data[feature] = data[feature].fillna(data[feature].median())"
   ]
  },
  {
   "cell_type": "code",
   "execution_count": 19,
   "metadata": {},
   "outputs": [],
   "source": [
    "# Filter dataset for selected features\n",
    "X = data[selected_features]\n",
    "y = data['total_delivery_duration']\n",
    "\n",
    "# Scale features\n",
    "scaler = StandardScaler()\n",
    "X_scaled = scaler.fit_transform(X)"
   ]
  },
  {
   "cell_type": "code",
   "execution_count": 20,
   "metadata": {},
   "outputs": [
    {
     "name": "stderr",
     "output_type": "stream",
     "text": [
      "/Users/diegovelez/Documents/Documents - Ifrit/03 RESOURCES/Courses/Henry/Delivery Duration Prediction - DoorDash/env/lib/python3.11/site-packages/keras/src/layers/core/dense.py:87: UserWarning: Do not pass an `input_shape`/`input_dim` argument to a layer. When using Sequential models, prefer using an `Input(shape)` object as the first layer in the model instead.\n",
      "  super().__init__(activity_regularizer=activity_regularizer, **kwargs)\n"
     ]
    }
   ],
   "source": [
    "# Define the improved neural network model\n",
    "model = Sequential([\n",
    "    Dense(256, input_dim=X_train.shape[1], activation='relu'),\n",
    "    BatchNormalization(),\n",
    "    Dropout(0.4),\n",
    "    Dense(128, activation='relu'),\n",
    "    BatchNormalization(),\n",
    "    Dropout(0.3),\n",
    "    Dense(64, activation='relu'),\n",
    "    BatchNormalization(),\n",
    "    Dropout(0.3),\n",
    "    Dense(32, activation='relu'),\n",
    "    BatchNormalization(),\n",
    "    Dropout(0.2),\n",
    "    Dense(1)  # Output layer for regression\n",
    "])\n",
    "\n",
    "# Compile the model with mean squared error loss and Adam optimizer\n",
    "model.compile(optimizer='adam', loss='mean_squared_error', metrics=['mean_absolute_error'])"
   ]
  },
  {
   "cell_type": "code",
   "execution_count": 21,
   "metadata": {},
   "outputs": [],
   "source": [
    "# Early stopping callback\n",
    "early_stop = EarlyStopping(monitor='val_loss', patience=10, restore_best_weights=True)"
   ]
  },
  {
   "cell_type": "code",
   "execution_count": 22,
   "metadata": {},
   "outputs": [
    {
     "name": "stdout",
     "output_type": "stream",
     "text": [
      "Epoch 1/100\n",
      "\u001b[1m4936/4936\u001b[0m \u001b[32m━━━━━━━━━━━━━━━━━━━━\u001b[0m\u001b[37m\u001b[0m \u001b[1m8s\u001b[0m 1ms/step - loss: 7973973.5000 - mean_absolute_error: 2655.4543 - val_loss: 3123881.0000 - val_mean_absolute_error: 1572.5809\n",
      "Epoch 2/100\n",
      "\u001b[1m4936/4936\u001b[0m \u001b[32m━━━━━━━━━━━━━━━━━━━━\u001b[0m\u001b[37m\u001b[0m \u001b[1m6s\u001b[0m 1ms/step - loss: 2101090.7500 - mean_absolute_error: 1183.0040 - val_loss: 664620.0625 - val_mean_absolute_error: 627.0051\n",
      "Epoch 3/100\n",
      "\u001b[1m4936/4936\u001b[0m \u001b[32m━━━━━━━━━━━━━━━━━━━━\u001b[0m\u001b[37m\u001b[0m \u001b[1m6s\u001b[0m 1ms/step - loss: 753232.5625 - mean_absolute_error: 675.8323 - val_loss: 655767.5625 - val_mean_absolute_error: 627.7563\n",
      "Epoch 4/100\n",
      "\u001b[1m4936/4936\u001b[0m \u001b[32m━━━━━━━━━━━━━━━━━━━━\u001b[0m\u001b[37m\u001b[0m \u001b[1m6s\u001b[0m 1ms/step - loss: 748270.0625 - mean_absolute_error: 674.0614 - val_loss: 652809.4375 - val_mean_absolute_error: 624.3908\n",
      "Epoch 5/100\n",
      "\u001b[1m4936/4936\u001b[0m \u001b[32m━━━━━━━━━━━━━━━━━━━━\u001b[0m\u001b[37m\u001b[0m \u001b[1m6s\u001b[0m 1ms/step - loss: 754488.0625 - mean_absolute_error: 676.3213 - val_loss: 653815.1875 - val_mean_absolute_error: 628.6423\n",
      "Epoch 6/100\n",
      "\u001b[1m4936/4936\u001b[0m \u001b[32m━━━━━━━━━━━━━━━━━━━━\u001b[0m\u001b[37m\u001b[0m \u001b[1m6s\u001b[0m 1ms/step - loss: 747521.0625 - mean_absolute_error: 672.7632 - val_loss: 647793.5000 - val_mean_absolute_error: 628.2986\n",
      "Epoch 7/100\n",
      "\u001b[1m4936/4936\u001b[0m \u001b[32m━━━━━━━━━━━━━━━━━━━━\u001b[0m\u001b[37m\u001b[0m \u001b[1m6s\u001b[0m 1ms/step - loss: 749213.4375 - mean_absolute_error: 675.1163 - val_loss: 647277.7500 - val_mean_absolute_error: 624.4951\n",
      "Epoch 8/100\n",
      "\u001b[1m4936/4936\u001b[0m \u001b[32m━━━━━━━━━━━━━━━━━━━━\u001b[0m\u001b[37m\u001b[0m \u001b[1m6s\u001b[0m 1ms/step - loss: 748747.6875 - mean_absolute_error: 673.3118 - val_loss: 646774.7500 - val_mean_absolute_error: 623.6678\n",
      "Epoch 9/100\n",
      "\u001b[1m4936/4936\u001b[0m \u001b[32m━━━━━━━━━━━━━━━━━━━━\u001b[0m\u001b[37m\u001b[0m \u001b[1m6s\u001b[0m 1ms/step - loss: 743894.9375 - mean_absolute_error: 671.0905 - val_loss: 644390.9375 - val_mean_absolute_error: 622.8822\n",
      "Epoch 10/100\n",
      "\u001b[1m4936/4936\u001b[0m \u001b[32m━━━━━━━━━━━━━━━━━━━━\u001b[0m\u001b[37m\u001b[0m \u001b[1m6s\u001b[0m 1ms/step - loss: 739260.7500 - mean_absolute_error: 670.5494 - val_loss: 641722.2500 - val_mean_absolute_error: 623.6479\n",
      "Epoch 11/100\n",
      "\u001b[1m4936/4936\u001b[0m \u001b[32m━━━━━━━━━━━━━━━━━━━━\u001b[0m\u001b[37m\u001b[0m \u001b[1m6s\u001b[0m 1ms/step - loss: 733751.4375 - mean_absolute_error: 668.5063 - val_loss: 639614.5625 - val_mean_absolute_error: 619.5560\n",
      "Epoch 12/100\n",
      "\u001b[1m4936/4936\u001b[0m \u001b[32m━━━━━━━━━━━━━━━━━━━━\u001b[0m\u001b[37m\u001b[0m \u001b[1m6s\u001b[0m 1ms/step - loss: 741838.3750 - mean_absolute_error: 671.4223 - val_loss: 642061.1250 - val_mean_absolute_error: 618.7977\n",
      "Epoch 13/100\n",
      "\u001b[1m4936/4936\u001b[0m \u001b[32m━━━━━━━━━━━━━━━━━━━━\u001b[0m\u001b[37m\u001b[0m \u001b[1m6s\u001b[0m 1ms/step - loss: 732025.7500 - mean_absolute_error: 665.6824 - val_loss: 637045.7500 - val_mean_absolute_error: 620.3289\n",
      "Epoch 14/100\n",
      "\u001b[1m4936/4936\u001b[0m \u001b[32m━━━━━━━━━━━━━━━━━━━━\u001b[0m\u001b[37m\u001b[0m \u001b[1m6s\u001b[0m 1ms/step - loss: 740362.6875 - mean_absolute_error: 669.9947 - val_loss: 639965.2500 - val_mean_absolute_error: 618.1288\n",
      "Epoch 15/100\n",
      "\u001b[1m4936/4936\u001b[0m \u001b[32m━━━━━━━━━━━━━━━━━━━━\u001b[0m\u001b[37m\u001b[0m \u001b[1m6s\u001b[0m 1ms/step - loss: 735426.3125 - mean_absolute_error: 668.5137 - val_loss: 633540.7500 - val_mean_absolute_error: 618.5776\n",
      "Epoch 16/100\n",
      "\u001b[1m4936/4936\u001b[0m \u001b[32m━━━━━━━━━━━━━━━━━━━━\u001b[0m\u001b[37m\u001b[0m \u001b[1m6s\u001b[0m 1ms/step - loss: 733329.5000 - mean_absolute_error: 667.3822 - val_loss: 632522.5000 - val_mean_absolute_error: 617.1627\n",
      "Epoch 17/100\n",
      "\u001b[1m4936/4936\u001b[0m \u001b[32m━━━━━━━━━━━━━━━━━━━━\u001b[0m\u001b[37m\u001b[0m \u001b[1m6s\u001b[0m 1ms/step - loss: 734251.0625 - mean_absolute_error: 666.3058 - val_loss: 631682.5625 - val_mean_absolute_error: 617.0580\n",
      "Epoch 18/100\n",
      "\u001b[1m4936/4936\u001b[0m \u001b[32m━━━━━━━━━━━━━━━━━━━━\u001b[0m\u001b[37m\u001b[0m \u001b[1m6s\u001b[0m 1ms/step - loss: 728018.4375 - mean_absolute_error: 663.1357 - val_loss: 630896.9375 - val_mean_absolute_error: 615.6915\n",
      "Epoch 19/100\n",
      "\u001b[1m4936/4936\u001b[0m \u001b[32m━━━━━━━━━━━━━━━━━━━━\u001b[0m\u001b[37m\u001b[0m \u001b[1m6s\u001b[0m 1ms/step - loss: 728975.1250 - mean_absolute_error: 664.5994 - val_loss: 631291.8125 - val_mean_absolute_error: 615.5062\n",
      "Epoch 20/100\n",
      "\u001b[1m4936/4936\u001b[0m \u001b[32m━━━━━━━━━━━━━━━━━━━━\u001b[0m\u001b[37m\u001b[0m \u001b[1m6s\u001b[0m 1ms/step - loss: 729750.8750 - mean_absolute_error: 664.7682 - val_loss: 630165.2500 - val_mean_absolute_error: 617.0891\n",
      "Epoch 21/100\n",
      "\u001b[1m4936/4936\u001b[0m \u001b[32m━━━━━━━━━━━━━━━━━━━━\u001b[0m\u001b[37m\u001b[0m \u001b[1m6s\u001b[0m 1ms/step - loss: 729516.3750 - mean_absolute_error: 664.5192 - val_loss: 629335.5625 - val_mean_absolute_error: 614.3115\n",
      "Epoch 22/100\n",
      "\u001b[1m4936/4936\u001b[0m \u001b[32m━━━━━━━━━━━━━━━━━━━━\u001b[0m\u001b[37m\u001b[0m \u001b[1m6s\u001b[0m 1ms/step - loss: 725870.8125 - mean_absolute_error: 663.6755 - val_loss: 629672.0625 - val_mean_absolute_error: 614.5678\n",
      "Epoch 23/100\n",
      "\u001b[1m4936/4936\u001b[0m \u001b[32m━━━━━━━━━━━━━━━━━━━━\u001b[0m\u001b[37m\u001b[0m \u001b[1m6s\u001b[0m 1ms/step - loss: 724884.8750 - mean_absolute_error: 662.9433 - val_loss: 629976.3750 - val_mean_absolute_error: 614.9722\n",
      "Epoch 24/100\n",
      "\u001b[1m4936/4936\u001b[0m \u001b[32m━━━━━━━━━━━━━━━━━━━━\u001b[0m\u001b[37m\u001b[0m \u001b[1m6s\u001b[0m 1ms/step - loss: 725338.3125 - mean_absolute_error: 662.5889 - val_loss: 627101.3125 - val_mean_absolute_error: 613.1340\n",
      "Epoch 25/100\n",
      "\u001b[1m4936/4936\u001b[0m \u001b[32m━━━━━━━━━━━━━━━━━━━━\u001b[0m\u001b[37m\u001b[0m \u001b[1m6s\u001b[0m 1ms/step - loss: 723159.8125 - mean_absolute_error: 661.6936 - val_loss: 628951.5000 - val_mean_absolute_error: 613.5341\n",
      "Epoch 26/100\n",
      "\u001b[1m4936/4936\u001b[0m \u001b[32m━━━━━━━━━━━━━━━━━━━━\u001b[0m\u001b[37m\u001b[0m \u001b[1m6s\u001b[0m 1ms/step - loss: 724423.0625 - mean_absolute_error: 661.9178 - val_loss: 629363.5625 - val_mean_absolute_error: 616.1017\n",
      "Epoch 27/100\n",
      "\u001b[1m4936/4936\u001b[0m \u001b[32m━━━━━━━━━━━━━━━━━━━━\u001b[0m\u001b[37m\u001b[0m \u001b[1m6s\u001b[0m 1ms/step - loss: 714906.9375 - mean_absolute_error: 658.5690 - val_loss: 629132.5000 - val_mean_absolute_error: 613.1349\n",
      "Epoch 28/100\n",
      "\u001b[1m4936/4936\u001b[0m \u001b[32m━━━━━━━━━━━━━━━━━━━━\u001b[0m\u001b[37m\u001b[0m \u001b[1m6s\u001b[0m 1ms/step - loss: 722335.3750 - mean_absolute_error: 661.5405 - val_loss: 627139.0000 - val_mean_absolute_error: 614.9821\n",
      "Epoch 29/100\n",
      "\u001b[1m4936/4936\u001b[0m \u001b[32m━━━━━━━━━━━━━━━━━━━━\u001b[0m\u001b[37m\u001b[0m \u001b[1m6s\u001b[0m 1ms/step - loss: 722021.9375 - mean_absolute_error: 661.1501 - val_loss: 626678.5000 - val_mean_absolute_error: 612.1484\n",
      "Epoch 30/100\n",
      "\u001b[1m4936/4936\u001b[0m \u001b[32m━━━━━━━━━━━━━━━━━━━━\u001b[0m\u001b[37m\u001b[0m \u001b[1m6s\u001b[0m 1ms/step - loss: 720373.1250 - mean_absolute_error: 661.1302 - val_loss: 628105.1250 - val_mean_absolute_error: 612.9979\n",
      "Epoch 31/100\n",
      "\u001b[1m4936/4936\u001b[0m \u001b[32m━━━━━━━━━━━━━━━━━━━━\u001b[0m\u001b[37m\u001b[0m \u001b[1m6s\u001b[0m 1ms/step - loss: 717229.6875 - mean_absolute_error: 658.0023 - val_loss: 626107.9375 - val_mean_absolute_error: 613.4905\n",
      "Epoch 32/100\n",
      "\u001b[1m4936/4936\u001b[0m \u001b[32m━━━━━━━━━━━━━━━━━━━━\u001b[0m\u001b[37m\u001b[0m \u001b[1m6s\u001b[0m 1ms/step - loss: 720902.2500 - mean_absolute_error: 660.7213 - val_loss: 628278.1875 - val_mean_absolute_error: 614.9847\n",
      "Epoch 33/100\n",
      "\u001b[1m4936/4936\u001b[0m \u001b[32m━━━━━━━━━━━━━━━━━━━━\u001b[0m\u001b[37m\u001b[0m \u001b[1m6s\u001b[0m 1ms/step - loss: 721271.8750 - mean_absolute_error: 661.0234 - val_loss: 625962.6250 - val_mean_absolute_error: 612.4103\n",
      "Epoch 34/100\n",
      "\u001b[1m4936/4936\u001b[0m \u001b[32m━━━━━━━━━━━━━━━━━━━━\u001b[0m\u001b[37m\u001b[0m \u001b[1m6s\u001b[0m 1ms/step - loss: 720647.9375 - mean_absolute_error: 659.6838 - val_loss: 625176.0625 - val_mean_absolute_error: 612.9902\n",
      "Epoch 35/100\n",
      "\u001b[1m4936/4936\u001b[0m \u001b[32m━━━━━━━━━━━━━━━━━━━━\u001b[0m\u001b[37m\u001b[0m \u001b[1m6s\u001b[0m 1ms/step - loss: 722292.5625 - mean_absolute_error: 660.4530 - val_loss: 625952.7500 - val_mean_absolute_error: 611.9671\n",
      "Epoch 36/100\n",
      "\u001b[1m4936/4936\u001b[0m \u001b[32m━━━━━━━━━━━━━━━━━━━━\u001b[0m\u001b[37m\u001b[0m \u001b[1m6s\u001b[0m 1ms/step - loss: 719517.2500 - mean_absolute_error: 659.3517 - val_loss: 624404.3125 - val_mean_absolute_error: 612.1138\n",
      "Epoch 37/100\n",
      "\u001b[1m4936/4936\u001b[0m \u001b[32m━━━━━━━━━━━━━━━━━━━━\u001b[0m\u001b[37m\u001b[0m \u001b[1m6s\u001b[0m 1ms/step - loss: 719986.9375 - mean_absolute_error: 661.0473 - val_loss: 626844.8125 - val_mean_absolute_error: 612.2193\n",
      "Epoch 38/100\n",
      "\u001b[1m4936/4936\u001b[0m \u001b[32m━━━━━━━━━━━━━━━━━━━━\u001b[0m\u001b[37m\u001b[0m \u001b[1m6s\u001b[0m 1ms/step - loss: 719347.0000 - mean_absolute_error: 659.2054 - val_loss: 625463.5625 - val_mean_absolute_error: 611.2090\n",
      "Epoch 39/100\n",
      "\u001b[1m4936/4936\u001b[0m \u001b[32m━━━━━━━━━━━━━━━━━━━━\u001b[0m\u001b[37m\u001b[0m \u001b[1m6s\u001b[0m 1ms/step - loss: 715549.8750 - mean_absolute_error: 658.0800 - val_loss: 624438.3750 - val_mean_absolute_error: 614.2994\n",
      "Epoch 40/100\n",
      "\u001b[1m4936/4936\u001b[0m \u001b[32m━━━━━━━━━━━━━━━━━━━━\u001b[0m\u001b[37m\u001b[0m \u001b[1m6s\u001b[0m 1ms/step - loss: 721272.1250 - mean_absolute_error: 660.6740 - val_loss: 626268.5000 - val_mean_absolute_error: 614.7607\n",
      "Epoch 41/100\n",
      "\u001b[1m4936/4936\u001b[0m \u001b[32m━━━━━━━━━━━━━━━━━━━━\u001b[0m\u001b[37m\u001b[0m \u001b[1m6s\u001b[0m 1ms/step - loss: 717956.1250 - mean_absolute_error: 659.4871 - val_loss: 624010.4375 - val_mean_absolute_error: 611.3522\n",
      "Epoch 42/100\n",
      "\u001b[1m4936/4936\u001b[0m \u001b[32m━━━━━━━━━━━━━━━━━━━━\u001b[0m\u001b[37m\u001b[0m \u001b[1m6s\u001b[0m 1ms/step - loss: 713333.5625 - mean_absolute_error: 655.7829 - val_loss: 624167.1875 - val_mean_absolute_error: 611.5229\n",
      "Epoch 43/100\n",
      "\u001b[1m4936/4936\u001b[0m \u001b[32m━━━━━━━━━━━━━━━━━━━━\u001b[0m\u001b[37m\u001b[0m \u001b[1m6s\u001b[0m 1ms/step - loss: 717040.5625 - mean_absolute_error: 657.7872 - val_loss: 624149.3750 - val_mean_absolute_error: 611.3363\n",
      "Epoch 44/100\n",
      "\u001b[1m4936/4936\u001b[0m \u001b[32m━━━━━━━━━━━━━━━━━━━━\u001b[0m\u001b[37m\u001b[0m \u001b[1m6s\u001b[0m 1ms/step - loss: 719615.2500 - mean_absolute_error: 659.4037 - val_loss: 625003.4375 - val_mean_absolute_error: 611.7895\n",
      "Epoch 45/100\n",
      "\u001b[1m4936/4936\u001b[0m \u001b[32m━━━━━━━━━━━━━━━━━━━━\u001b[0m\u001b[37m\u001b[0m \u001b[1m6s\u001b[0m 1ms/step - loss: 716941.8125 - mean_absolute_error: 657.4672 - val_loss: 624209.1250 - val_mean_absolute_error: 611.0667\n",
      "Epoch 46/100\n",
      "\u001b[1m4936/4936\u001b[0m \u001b[32m━━━━━━━━━━━━━━━━━━━━\u001b[0m\u001b[37m\u001b[0m \u001b[1m6s\u001b[0m 1ms/step - loss: 716846.5000 - mean_absolute_error: 658.9241 - val_loss: 624214.8125 - val_mean_absolute_error: 612.5056\n",
      "Epoch 47/100\n",
      "\u001b[1m4936/4936\u001b[0m \u001b[32m━━━━━━━━━━━━━━━━━━━━\u001b[0m\u001b[37m\u001b[0m \u001b[1m6s\u001b[0m 1ms/step - loss: 716573.2500 - mean_absolute_error: 657.4911 - val_loss: 622503.6875 - val_mean_absolute_error: 613.0721\n",
      "Epoch 48/100\n",
      "\u001b[1m4936/4936\u001b[0m \u001b[32m━━━━━━━━━━━━━━━━━━━━\u001b[0m\u001b[37m\u001b[0m \u001b[1m6s\u001b[0m 1ms/step - loss: 716784.8125 - mean_absolute_error: 658.3106 - val_loss: 622027.1875 - val_mean_absolute_error: 610.4538\n",
      "Epoch 49/100\n",
      "\u001b[1m4936/4936\u001b[0m \u001b[32m━━━━━━━━━━━━━━━━━━━━\u001b[0m\u001b[37m\u001b[0m \u001b[1m6s\u001b[0m 1ms/step - loss: 718112.5625 - mean_absolute_error: 658.9901 - val_loss: 623327.7500 - val_mean_absolute_error: 610.4401\n",
      "Epoch 50/100\n",
      "\u001b[1m4936/4936\u001b[0m \u001b[32m━━━━━━━━━━━━━━━━━━━━\u001b[0m\u001b[37m\u001b[0m \u001b[1m6s\u001b[0m 1ms/step - loss: 718560.5000 - mean_absolute_error: 658.0782 - val_loss: 624010.5625 - val_mean_absolute_error: 610.0419\n",
      "Epoch 51/100\n",
      "\u001b[1m4936/4936\u001b[0m \u001b[32m━━━━━━━━━━━━━━━━━━━━\u001b[0m\u001b[37m\u001b[0m \u001b[1m6s\u001b[0m 1ms/step - loss: 717366.9375 - mean_absolute_error: 658.3915 - val_loss: 624038.8750 - val_mean_absolute_error: 610.4131\n",
      "Epoch 52/100\n",
      "\u001b[1m4936/4936\u001b[0m \u001b[32m━━━━━━━━━━━━━━━━━━━━\u001b[0m\u001b[37m\u001b[0m \u001b[1m6s\u001b[0m 1ms/step - loss: 707714.1875 - mean_absolute_error: 653.4596 - val_loss: 622958.9375 - val_mean_absolute_error: 612.8592\n",
      "Epoch 53/100\n",
      "\u001b[1m4936/4936\u001b[0m \u001b[32m━━━━━━━━━━━━━━━━━━━━\u001b[0m\u001b[37m\u001b[0m \u001b[1m6s\u001b[0m 1ms/step - loss: 715709.8125 - mean_absolute_error: 658.3679 - val_loss: 621089.0625 - val_mean_absolute_error: 611.6596\n",
      "Epoch 54/100\n",
      "\u001b[1m4936/4936\u001b[0m \u001b[32m━━━━━━━━━━━━━━━━━━━━\u001b[0m\u001b[37m\u001b[0m \u001b[1m6s\u001b[0m 1ms/step - loss: 719020.1250 - mean_absolute_error: 658.8092 - val_loss: 624002.6250 - val_mean_absolute_error: 611.2980\n",
      "Epoch 55/100\n",
      "\u001b[1m4936/4936\u001b[0m \u001b[32m━━━━━━━━━━━━━━━━━━━━\u001b[0m\u001b[37m\u001b[0m \u001b[1m6s\u001b[0m 1ms/step - loss: 713946.0625 - mean_absolute_error: 658.0973 - val_loss: 624889.8750 - val_mean_absolute_error: 614.5157\n",
      "Epoch 56/100\n",
      "\u001b[1m4936/4936\u001b[0m \u001b[32m━━━━━━━━━━━━━━━━━━━━\u001b[0m\u001b[37m\u001b[0m \u001b[1m6s\u001b[0m 1ms/step - loss: 713497.7500 - mean_absolute_error: 655.1034 - val_loss: 622872.3750 - val_mean_absolute_error: 610.7532\n",
      "Epoch 57/100\n",
      "\u001b[1m4936/4936\u001b[0m \u001b[32m━━━━━━━━━━━━━━━━━━━━\u001b[0m\u001b[37m\u001b[0m \u001b[1m6s\u001b[0m 1ms/step - loss: 710893.2500 - mean_absolute_error: 655.6837 - val_loss: 620754.9375 - val_mean_absolute_error: 611.0534\n",
      "Epoch 58/100\n",
      "\u001b[1m4936/4936\u001b[0m \u001b[32m━━━━━━━━━━━━━━━━━━━━\u001b[0m\u001b[37m\u001b[0m \u001b[1m6s\u001b[0m 1ms/step - loss: 711095.6250 - mean_absolute_error: 656.3684 - val_loss: 623025.3750 - val_mean_absolute_error: 612.6832\n",
      "Epoch 59/100\n",
      "\u001b[1m4936/4936\u001b[0m \u001b[32m━━━━━━━━━━━━━━━━━━━━\u001b[0m\u001b[37m\u001b[0m \u001b[1m6s\u001b[0m 1ms/step - loss: 709496.0625 - mean_absolute_error: 654.4688 - val_loss: 621788.1250 - val_mean_absolute_error: 610.9844\n",
      "Epoch 60/100\n",
      "\u001b[1m4936/4936\u001b[0m \u001b[32m━━━━━━━━━━━━━━━━━━━━\u001b[0m\u001b[37m\u001b[0m \u001b[1m6s\u001b[0m 1ms/step - loss: 709352.8125 - mean_absolute_error: 655.0997 - val_loss: 622124.3750 - val_mean_absolute_error: 611.4778\n",
      "Epoch 61/100\n",
      "\u001b[1m4936/4936\u001b[0m \u001b[32m━━━━━━━━━━━━━━━━━━━━\u001b[0m\u001b[37m\u001b[0m \u001b[1m6s\u001b[0m 1ms/step - loss: 714856.3750 - mean_absolute_error: 656.3074 - val_loss: 621471.0000 - val_mean_absolute_error: 610.5079\n",
      "Epoch 62/100\n",
      "\u001b[1m4936/4936\u001b[0m \u001b[32m━━━━━━━━━━━━━━━━━━━━\u001b[0m\u001b[37m\u001b[0m \u001b[1m6s\u001b[0m 1ms/step - loss: 709113.8125 - mean_absolute_error: 654.7618 - val_loss: 623404.8750 - val_mean_absolute_error: 609.4376\n",
      "Epoch 63/100\n",
      "\u001b[1m4936/4936\u001b[0m \u001b[32m━━━━━━━━━━━━━━━━━━━━\u001b[0m\u001b[37m\u001b[0m \u001b[1m6s\u001b[0m 1ms/step - loss: 711612.2500 - mean_absolute_error: 654.9681 - val_loss: 622479.8750 - val_mean_absolute_error: 611.0461\n",
      "Epoch 64/100\n",
      "\u001b[1m4936/4936\u001b[0m \u001b[32m━━━━━━━━━━━━━━━━━━━━\u001b[0m\u001b[37m\u001b[0m \u001b[1m6s\u001b[0m 1ms/step - loss: 709933.3750 - mean_absolute_error: 654.9661 - val_loss: 619911.6250 - val_mean_absolute_error: 611.1993\n",
      "Epoch 65/100\n",
      "\u001b[1m4936/4936\u001b[0m \u001b[32m━━━━━━━━━━━━━━━━━━━━\u001b[0m\u001b[37m\u001b[0m \u001b[1m6s\u001b[0m 1ms/step - loss: 714304.3125 - mean_absolute_error: 656.1282 - val_loss: 622501.5625 - val_mean_absolute_error: 612.7075\n",
      "Epoch 66/100\n",
      "\u001b[1m4936/4936\u001b[0m \u001b[32m━━━━━━━━━━━━━━━━━━━━\u001b[0m\u001b[37m\u001b[0m \u001b[1m6s\u001b[0m 1ms/step - loss: 709818.5625 - mean_absolute_error: 655.0918 - val_loss: 623804.3125 - val_mean_absolute_error: 608.5861\n",
      "Epoch 67/100\n",
      "\u001b[1m4936/4936\u001b[0m \u001b[32m━━━━━━━━━━━━━━━━━━━━\u001b[0m\u001b[37m\u001b[0m \u001b[1m6s\u001b[0m 1ms/step - loss: 715084.5000 - mean_absolute_error: 657.2117 - val_loss: 620372.5625 - val_mean_absolute_error: 613.0869\n",
      "Epoch 68/100\n",
      "\u001b[1m4936/4936\u001b[0m \u001b[32m━━━━━━━━━━━━━━━━━━━━\u001b[0m\u001b[37m\u001b[0m \u001b[1m6s\u001b[0m 1ms/step - loss: 711999.8125 - mean_absolute_error: 655.9488 - val_loss: 622743.4375 - val_mean_absolute_error: 610.4084\n",
      "Epoch 69/100\n",
      "\u001b[1m4936/4936\u001b[0m \u001b[32m━━━━━━━━━━━━━━━━━━━━\u001b[0m\u001b[37m\u001b[0m \u001b[1m6s\u001b[0m 1ms/step - loss: 710885.8750 - mean_absolute_error: 654.4872 - val_loss: 620428.2500 - val_mean_absolute_error: 609.2735\n",
      "Epoch 70/100\n",
      "\u001b[1m4936/4936\u001b[0m \u001b[32m━━━━━━━━━━━━━━━━━━━━\u001b[0m\u001b[37m\u001b[0m \u001b[1m6s\u001b[0m 1ms/step - loss: 711118.3125 - mean_absolute_error: 655.5947 - val_loss: 621942.9375 - val_mean_absolute_error: 610.9329\n",
      "Epoch 71/100\n",
      "\u001b[1m4936/4936\u001b[0m \u001b[32m━━━━━━━━━━━━━━━━━━━━\u001b[0m\u001b[37m\u001b[0m \u001b[1m6s\u001b[0m 1ms/step - loss: 709239.1875 - mean_absolute_error: 655.7146 - val_loss: 621186.3750 - val_mean_absolute_error: 608.4962\n",
      "Epoch 72/100\n",
      "\u001b[1m4936/4936\u001b[0m \u001b[32m━━━━━━━━━━━━━━━━━━━━\u001b[0m\u001b[37m\u001b[0m \u001b[1m6s\u001b[0m 1ms/step - loss: 719601.3125 - mean_absolute_error: 657.8506 - val_loss: 622649.0625 - val_mean_absolute_error: 608.8603\n",
      "Epoch 73/100\n",
      "\u001b[1m4936/4936\u001b[0m \u001b[32m━━━━━━━━━━━━━━━━━━━━\u001b[0m\u001b[37m\u001b[0m \u001b[1m6s\u001b[0m 1ms/step - loss: 715773.8750 - mean_absolute_error: 656.9102 - val_loss: 619482.1250 - val_mean_absolute_error: 608.5609\n",
      "Epoch 74/100\n",
      "\u001b[1m4936/4936\u001b[0m \u001b[32m━━━━━━━━━━━━━━━━━━━━\u001b[0m\u001b[37m\u001b[0m \u001b[1m6s\u001b[0m 1ms/step - loss: 717769.6875 - mean_absolute_error: 658.7596 - val_loss: 622220.0000 - val_mean_absolute_error: 612.0024\n",
      "Epoch 75/100\n",
      "\u001b[1m4936/4936\u001b[0m \u001b[32m━━━━━━━━━━━━━━━━━━━━\u001b[0m\u001b[37m\u001b[0m \u001b[1m6s\u001b[0m 1ms/step - loss: 710601.9375 - mean_absolute_error: 654.7141 - val_loss: 622563.5000 - val_mean_absolute_error: 608.1979\n",
      "Epoch 76/100\n",
      "\u001b[1m4936/4936\u001b[0m \u001b[32m━━━━━━━━━━━━━━━━━━━━\u001b[0m\u001b[37m\u001b[0m \u001b[1m6s\u001b[0m 1ms/step - loss: 707466.6875 - mean_absolute_error: 653.7969 - val_loss: 621388.8750 - val_mean_absolute_error: 610.0109\n",
      "Epoch 77/100\n",
      "\u001b[1m4936/4936\u001b[0m \u001b[32m━━━━━━━━━━━━━━━━━━━━\u001b[0m\u001b[37m\u001b[0m \u001b[1m6s\u001b[0m 1ms/step - loss: 715433.2500 - mean_absolute_error: 656.1381 - val_loss: 622007.9375 - val_mean_absolute_error: 609.5816\n",
      "Epoch 78/100\n",
      "\u001b[1m4936/4936\u001b[0m \u001b[32m━━━━━━━━━━━━━━━━━━━━\u001b[0m\u001b[37m\u001b[0m \u001b[1m6s\u001b[0m 1ms/step - loss: 710832.3125 - mean_absolute_error: 655.3819 - val_loss: 621386.5625 - val_mean_absolute_error: 610.1573\n",
      "Epoch 79/100\n",
      "\u001b[1m4936/4936\u001b[0m \u001b[32m━━━━━━━━━━━━━━━━━━━━\u001b[0m\u001b[37m\u001b[0m \u001b[1m6s\u001b[0m 1ms/step - loss: 707168.9375 - mean_absolute_error: 653.1772 - val_loss: 621258.8750 - val_mean_absolute_error: 611.3599\n",
      "Epoch 80/100\n",
      "\u001b[1m4936/4936\u001b[0m \u001b[32m━━━━━━━━━━━━━━━━━━━━\u001b[0m\u001b[37m\u001b[0m \u001b[1m6s\u001b[0m 1ms/step - loss: 712270.3125 - mean_absolute_error: 656.6113 - val_loss: 618227.9375 - val_mean_absolute_error: 610.1381\n",
      "Epoch 81/100\n",
      "\u001b[1m4936/4936\u001b[0m \u001b[32m━━━━━━━━━━━━━━━━━━━━\u001b[0m\u001b[37m\u001b[0m \u001b[1m6s\u001b[0m 1ms/step - loss: 713038.7500 - mean_absolute_error: 654.9295 - val_loss: 620217.1875 - val_mean_absolute_error: 610.0760\n",
      "Epoch 82/100\n",
      "\u001b[1m4936/4936\u001b[0m \u001b[32m━━━━━━━━━━━━━━━━━━━━\u001b[0m\u001b[37m\u001b[0m \u001b[1m6s\u001b[0m 1ms/step - loss: 707856.3125 - mean_absolute_error: 653.9563 - val_loss: 621824.7500 - val_mean_absolute_error: 608.5891\n",
      "Epoch 83/100\n",
      "\u001b[1m4936/4936\u001b[0m \u001b[32m━━━━━━━━━━━━━━━━━━━━\u001b[0m\u001b[37m\u001b[0m \u001b[1m6s\u001b[0m 1ms/step - loss: 714712.3125 - mean_absolute_error: 656.4695 - val_loss: 621797.3125 - val_mean_absolute_error: 611.4972\n",
      "Epoch 84/100\n",
      "\u001b[1m4936/4936\u001b[0m \u001b[32m━━━━━━━━━━━━━━━━━━━━\u001b[0m\u001b[37m\u001b[0m \u001b[1m6s\u001b[0m 1ms/step - loss: 709029.9375 - mean_absolute_error: 653.3841 - val_loss: 620760.3125 - val_mean_absolute_error: 610.3458\n",
      "Epoch 85/100\n",
      "\u001b[1m4936/4936\u001b[0m \u001b[32m━━━━━━━━━━━━━━━━━━━━\u001b[0m\u001b[37m\u001b[0m \u001b[1m6s\u001b[0m 1ms/step - loss: 707743.2500 - mean_absolute_error: 654.2527 - val_loss: 619703.7500 - val_mean_absolute_error: 609.1045\n",
      "Epoch 86/100\n",
      "\u001b[1m4936/4936\u001b[0m \u001b[32m━━━━━━━━━━━━━━━━━━━━\u001b[0m\u001b[37m\u001b[0m \u001b[1m6s\u001b[0m 1ms/step - loss: 711514.9375 - mean_absolute_error: 656.3386 - val_loss: 620613.0625 - val_mean_absolute_error: 609.7095\n",
      "Epoch 87/100\n",
      "\u001b[1m4936/4936\u001b[0m \u001b[32m━━━━━━━━━━━━━━━━━━━━\u001b[0m\u001b[37m\u001b[0m \u001b[1m6s\u001b[0m 1ms/step - loss: 709088.0625 - mean_absolute_error: 654.4248 - val_loss: 621347.4375 - val_mean_absolute_error: 609.8633\n",
      "Epoch 88/100\n",
      "\u001b[1m4936/4936\u001b[0m \u001b[32m━━━━━━━━━━━━━━━━━━━━\u001b[0m\u001b[37m\u001b[0m \u001b[1m6s\u001b[0m 1ms/step - loss: 706417.8125 - mean_absolute_error: 653.4577 - val_loss: 619846.3750 - val_mean_absolute_error: 609.9409\n",
      "Epoch 89/100\n",
      "\u001b[1m4936/4936\u001b[0m \u001b[32m━━━━━━━━━━━━━━━━━━━━\u001b[0m\u001b[37m\u001b[0m \u001b[1m6s\u001b[0m 1ms/step - loss: 708491.8750 - mean_absolute_error: 654.1771 - val_loss: 619534.0625 - val_mean_absolute_error: 608.5770\n",
      "Epoch 90/100\n",
      "\u001b[1m4936/4936\u001b[0m \u001b[32m━━━━━━━━━━━━━━━━━━━━\u001b[0m\u001b[37m\u001b[0m \u001b[1m6s\u001b[0m 1ms/step - loss: 709062.8125 - mean_absolute_error: 654.1923 - val_loss: 619396.8750 - val_mean_absolute_error: 608.9309\n",
      "\u001b[1m1234/1234\u001b[0m \u001b[32m━━━━━━━━━━━━━━━━━━━━\u001b[0m\u001b[37m\u001b[0m \u001b[1m0s\u001b[0m 379us/step - loss: 616978.5000 - mean_absolute_error: 608.8406\n",
      "Deep Learning MAE: 610.1381225585938\n"
     ]
    }
   ],
   "source": [
    "# Train the model\n",
    "history = model.fit(\n",
    "    X_train, y_train,\n",
    "    epochs=100,\n",
    "    batch_size=32,\n",
    "    validation_data=(X_test, y_test),\n",
    "    callbacks=[early_stop],\n",
    "    verbose=1\n",
    ")\n",
    "\n",
    "# Evaluate the model\n",
    "loss, mae = model.evaluate(X_test, y_test)\n",
    "print(f'Deep Learning MAE: {mae}')"
   ]
  },
  {
   "cell_type": "markdown",
   "metadata": {},
   "source": [
    "Explanation of Changes\n",
    "\n",
    "1. Increased Network Depth: We used a deeper architecture with more layers to allow the model to capture complex patterns in the data.\n",
    "\n",
    "2. Higher Dropout Rates: Higher dropout rates in the initial layers help prevent overfitting.\n",
    "\n",
    "3. Batch Normalization: Batch normalization was added after each dense layer to stabilize training and potentially reduce the number of epochs needed.\n",
    "\n",
    "4. Early Stopping: Early stopping was used to prevent overfitting."
   ]
  },
  {
   "cell_type": "markdown",
   "metadata": {},
   "source": [
    "Model Performance\n",
    "\n",
    "Mean Absolute Error (MAE): The model achieved an MAE of 610.14 seconds (approximately 10.17 minutes). While this is close to the optimized XGBoost model’s MAE of 525.25 seconds, it still lags slightly behind.\n"
   ]
  },
  {
   "cell_type": "code",
   "execution_count": 23,
   "metadata": {},
   "outputs": [
    {
     "data": {
      "image/png": "[encoded data removed]",
      "text/plain": [
       "<Figure size 1000x600 with 1 Axes>"
      ]
     },
     "metadata": {},
     "output_type": "display_data"
    }
   ],
   "source": [
    "# Plot training & validation loss\n",
    "plt.figure(figsize=(10, 6))\n",
    "plt.plot(history.history['loss'], label='Training Loss')\n",
    "plt.plot(history.history['val_loss'], label='Validation Loss')\n",
    "plt.xlabel('Epochs')\n",
    "plt.ylabel('Mean Squared Error')\n",
    "plt.title('Training and Validation Loss')\n",
    "plt.legend()\n",
    "plt.show()"
   ]
  },
  {
   "cell_type": "markdown",
   "metadata": {},
   "source": [
    "Graph Analysis\n",
    "\n",
    "1. Loss Convergence: The training and validation loss curves show a rapid decrease within the first 10 epochs, after which they stabilize. This indicates that the model learned the key patterns in the data relatively quickly and reached a plateau in terms of improvement.\n",
    " \n",
    "2. Close Alignment of Curves: The training and validation loss curves are closely aligned, suggesting minimal overfitting. This is a positive sign, as it shows that the model generalizes well to unseen data.\n",
    "\n",
    "3. Low Variability: The stability of the loss over epochs implies that the model is learning effectively and consistently without large fluctuations. This can be attributed to the architecture improvements, including batch normalization and dropout, which helped prevent overfitting."
   ]
  },
  {
   "cell_type": "markdown",
   "metadata": {},
   "source": [
    "### Conclusions and Recommendations\n",
    "\n",
    "1. Comparative Performance: The optimized XGBoost model still outperforms the deep learning model slightly. This suggests that the problem might be better suited to gradient-boosted decision trees, as they can capture complex interactions in structured tabular data more effectively.\n",
    "\n",
    "2. Further Tuning: Although the deep learning model is stable, there might be further improvements by experimenting with even deeper architectures or fine-tuning dropout rates and layer sizes. However, these adjustments may provide diminishing returns.\n",
    "\n",
    "3. Ensemble Strategy: Combining predictions from the deep learning model and XGBoost through an ensemble approach could potentially leverage the strengths of both models and slightly improve performance.\n",
    "\n",
    "Final Recommendation\n",
    "\n",
    "While the deep learning model is robust and demonstrates reasonable performance, the optimized XGBoost model is the preferable choice due to its lower MAE. Therefore, unless additional improvements are identified, using the XGBoost model as the final solution may be more effective for this project."
   ]
  }
 ],
 "metadata": {
  "kernelspec": {
   "display_name": "env",
   "language": "python",
   "name": "python3"
  },
  "language_info": {
   "codemirror_mode": {
    "name": "ipython",
    "version": 3
   },
   "file_extension": ".py",
   "mimetype": "text/x-python",
   "name": "python",
   "nbconvert_exporter": "python",
   "pygments_lexer": "ipython3",
   "version": "3.11.6"
  }
 },
 "nbformat": 4,
 "nbformat_minor": 2
}
